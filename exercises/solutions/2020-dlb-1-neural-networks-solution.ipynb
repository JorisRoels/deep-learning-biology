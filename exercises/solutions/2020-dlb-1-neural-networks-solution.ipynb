{
 "cells": [
  {
   "cell_type": "markdown",
   "metadata": {
    "id": "bSg5U4D5I35S"
   },
   "source": [
    "[![Open In Colab](https://colab.research.google.com/assets/colab-badge.svg)](https://colab.research.google.com/github/JorisRoels/deep-learning-biology/blob/main/exercises/solutions/2020-dlb-1-neural-networks-solution.ipynb)\n",
    "\n",
    "# Exercise 1: Neural Networks\n",
    "\n",
    "In this notebook, we will be using neural networks to identify enzyme sequences from protein sequences. \n",
    "\n",
    "The structure of these exercises is as follows: \n",
    "\n",
    "1. [Import libraries and download data](#scrollTo=ScagUEMTMjlK)\n",
    "2. [Data pre-processing](#scrollTo=ohZHyOTnI35b)\n",
    "3. [Building a neural network with PyTorch](#scrollTo=kIry8iFZI35y)\n",
    "4. [Training & validating the network](#scrollTo=uXrEb0rTI35-)\n",
    "5. [Improving the model](#scrollTo=o76Hxj7-Mst5)\n",
    "6. [Understanding the model](#scrollTo=Ult7CTpCMxTi)\n",
    "\n",
    "This notebook is largely based on the research published in: \n",
    "\n",
    "Li, Y., Wang, S., Umarov, R., Xie, B., Fan, M., Li, L., & Gao, X. (2018). DEEPre: Sequence-based enzyme EC number prediction by deep learning. Bioinformatics, 34(5), 760–769. https://doi.org/10.1093/bioinformatics/btx680"
   ]
  },
  {
   "cell_type": "markdown",
   "metadata": {
    "id": "ScagUEMTMjlK"
   },
   "source": [
    "## 1. Import libraries and download data\n",
    "Let's start with importing the necessary libraries. "
   ]
  },
  {
   "cell_type": "code",
   "execution_count": 1,
   "metadata": {
    "executionInfo": {
     "elapsed": 1152,
     "status": "ok",
     "timestamp": 1607183794439,
     "user": {
      "displayName": "Joris Roels",
      "photoUrl": "https://lh3.googleusercontent.com/a-/AOh14GiO17HAi3vdM28rwcREixXOvi5CItNho4sxx-YCwkU=s64",
      "userId": "00181780506485155029"
     },
     "user_tz": -60
    },
    "id": "S1oGi88ZU8eN"
   },
   "outputs": [],
   "source": [
    "import pickle\n",
    "import numpy as np\n",
    "import random\n",
    "import os\n",
    "import matplotlib.pyplot as plt\n",
    "plt.rcdefaults()\n",
    "import pandas as pd\n",
    "from sklearn.metrics import accuracy_score\n",
    "from sklearn.model_selection import train_test_split\n",
    "from sklearn.manifold import TSNE\n",
    "from sklearn.svm import SVC\n",
    "from sklearn.ensemble import RandomForestClassifier\n",
    "from sklearn.neighbors import KNeighborsClassifier\n",
    "from progressbar import ProgressBar, Percentage, Bar, ETA, FileTransferSpeed\n",
    "import torch\n",
    "import torch.nn as nn\n",
    "import torch.nn.functional as F\n",
    "import torch.optim as optim\n",
    "import torch.utils.data as data\n",
    "from torch.utils.data import DataLoader\n",
    "from torchvision import datasets\n",
    "import gdown\n",
    "import zipfile\n",
    "import os"
   ]
  },
  {
   "cell_type": "markdown",
   "metadata": {
    "id": "yIPng9wbV-Zs"
   },
   "source": [
    "As you will notice, Colab environments come with quite a large library pre-installed. If you need to import a module that is not yet specified, you can add it in the previous cell (make sure to run it again). If the module is not installed, you can install it with `pip`. \n",
    "\n",
    "To make your work reproducible, it is advised to initialize all modules with stochastic functionality with a fixed seed. Re-running this script should give the same results as long as the seed is fixed. "
   ]
  },
  {
   "cell_type": "code",
   "execution_count": 2,
   "metadata": {
    "colab": {
     "base_uri": "https://localhost:8080/"
    },
    "executionInfo": {
     "elapsed": 1463,
     "status": "ok",
     "timestamp": 1607183794755,
     "user": {
      "displayName": "Joris Roels",
      "photoUrl": "https://lh3.googleusercontent.com/a-/AOh14GiO17HAi3vdM28rwcREixXOvi5CItNho4sxx-YCwkU=s64",
      "userId": "00181780506485155029"
     },
     "user_tz": -60
    },
    "id": "8OOFPFLiV-mh",
    "outputId": "664cfd92-aed4-46c4-9cde-0d5a8c699082"
   },
   "outputs": [
    {
     "name": "stdout",
     "output_type": "stream",
     "text": [
      "Running computations with cuda\n",
      "_CudaDeviceProperties(name='Tesla P100-PCIE-16GB', major=6, minor=0, total_memory=16280MB, multi_processor_count=56)\n"
     ]
    }
   ],
   "source": [
    "# make sure the results are reproducible\n",
    "seed = 0\n",
    "np.random.seed(seed)\n",
    "random.seed(seed)\n",
    "torch.manual_seed(seed)\n",
    "torch.backends.cudnn.deterministic = True\n",
    "torch.backends.cudnn.benchmark = False\n",
    "\n",
    "# run all computations on the GPU if available\n",
    "device = torch.device(\"cuda\" if torch.cuda.is_available() else \"cpu\")\n",
    "print('Running computations with %s' % torch.device(device))\n",
    "if torch.cuda.is_available():\n",
    "    print(torch.cuda.get_device_properties(device))"
   ]
  },
  {
   "cell_type": "markdown",
   "metadata": {
    "id": "PjfnM2ffU9G0"
   },
   "source": [
    "We will now download the required data from a public Google Drive repository. The data is stored as a zip archive and automatically extracted to the `data` directory in the current directory. "
   ]
  },
  {
   "cell_type": "code",
   "execution_count": 3,
   "metadata": {
    "colab": {
     "base_uri": "https://localhost:8080/"
    },
    "executionInfo": {
     "elapsed": 3144,
     "status": "ok",
     "timestamp": 1607183796442,
     "user": {
      "displayName": "Joris Roels",
      "photoUrl": "https://lh3.googleusercontent.com/a-/AOh14GiO17HAi3vdM28rwcREixXOvi5CItNho4sxx-YCwkU=s64",
      "userId": "00181780506485155029"
     },
     "user_tz": -60
    },
    "id": "4Ilt9ZM3I35T",
    "outputId": "95afa272-c1e8-4bbb-e2cf-9b2ae73215ba"
   },
   "outputs": [
    {
     "name": "stderr",
     "output_type": "stream",
     "text": [
      "Downloading...\n",
      "From: http://data.bits.vib.be/pub/trainingen/DeepLearning/data-1.zip\n",
      "To: /content/data.zip\n",
      "100%|██████████| 840k/840k [00:00<00:00, 1.21MB/s]\n"
     ]
    }
   ],
   "source": [
    "# fields\n",
    "url = 'http://data.bits.vib.be/pub/trainingen/DeepLearning/data-1.zip'\n",
    "cmp_data_path = 'data.zip'\n",
    "\n",
    "# download the compressed data\n",
    "gdown.download(url, cmp_data_path, quiet=False)\n",
    "\n",
    "# extract the data\n",
    "zip = zipfile.ZipFile(cmp_data_path)\n",
    "zip.extractall('')\n",
    "\n",
    "# remove the compressed data\n",
    "os.remove(cmp_data_path)"
   ]
  },
  {
   "cell_type": "markdown",
   "metadata": {
    "id": "ohZHyOTnI35b"
   },
   "source": [
    "## 2. Data pre-processing\n",
    "\n",
    "The data are protein sequences and stored in binary format as pickle files. However, we encode the data to a binary matrix $X$ where the value at position $(i,j)$ represents the absence or presence of the protein $i$ in the sequence $j$: \n",
    "\n",
    "$$\n",
    "X_{i,j}=\\left\\{\n",
    "        \\begin{array}{ll}\n",
    "          1 \\text{ (protein } i \\text{ is present in sequence } j \\text{)}\\\\\n",
    "          0 \\text{ (protein } i \\text{ is not present in sequence } j \\text{)}\n",
    "        \\end{array} \n",
    "        \\right.\n",
    "$$\n",
    "\n",
    "The corresponding labels $y$ are also binary, they separate the enzyme from the non-enzyme sequences: \n",
    "\n",
    "$$\n",
    "y_{j}=\\left\\{\n",
    "      \\begin{array}{ll}\n",
    "        1 \\text{ (sequence } j \\text{ is an enzyme)}\\\\\n",
    "        0 \\text{ (sequence } j \\text{ is not an enzyme)}\n",
    "      \\end{array} \n",
    "      \\right.\n",
    "$$"
   ]
  },
  {
   "cell_type": "code",
   "execution_count": 4,
   "metadata": {
    "colab": {
     "base_uri": "https://localhost:8080/"
    },
    "executionInfo": {
     "elapsed": 21358,
     "status": "ok",
     "timestamp": 1607183814660,
     "user": {
      "displayName": "Joris Roels",
      "photoUrl": "https://lh3.googleusercontent.com/a-/AOh14GiO17HAi3vdM28rwcREixXOvi5CItNho4sxx-YCwkU=s64",
      "userId": "00181780506485155029"
     },
     "user_tz": -60
    },
    "id": "4hJjZQEGI35f",
    "outputId": "7fa7a1ec-50d6-43ac-864f-e9daf73c45cb"
   },
   "outputs": [
    {
     "name": "stderr",
     "output_type": "stream",
     "text": [
      "Encoding data: 100% |##########################################| Time:  0:00:09\n",
      "Encoding data: 100% |##########################################| Time:  0:00:06\n"
     ]
    },
    {
     "name": "stdout",
     "output_type": "stream",
     "text": [
      "There are 44336 sequences with 16306 protein measurements\n",
      "There are 22168 enzyme and 22168 non-enzyme sequences\n"
     ]
    }
   ],
   "source": [
    "def encode_data(f_name_list, proteins):\n",
    "    \n",
    "    with open(f_name_list,'rb') as f:\n",
    "        name_list = pickle.load(f)\n",
    "\n",
    "    encoding = []\n",
    "    widgets = ['Encoding data: ', Percentage(), ' ', Bar(), ' ', ETA()]\n",
    "    pbar = ProgressBar(widgets=widgets, maxval=len(name_list))\n",
    "    pbar.start()\n",
    "    for i in range(len(name_list)):\n",
    "        single_encoding = np.zeros(len(proteins))\n",
    "        if name_list[i] != []:\n",
    "            for protein_name in name_list[i]:\n",
    "                single_encoding[proteins.index(protein_name)] = 1\n",
    "        encoding.append(single_encoding)\n",
    "        pbar.update(i)\n",
    "    pbar.finish()\n",
    "    \n",
    "    return np.asarray(encoding, dtype='int8')\n",
    "\n",
    "# specify where the data is stored\n",
    "data_dir = 'data-1'\n",
    "f_name_list_enzymes = os.path.join(data_dir, 'Pfam_name_list_new_data.pickle')\n",
    "f_name_list_nonenzyme = os.path.join(data_dir, 'Pfam_name_list_non_enzyme.pickle')\n",
    "f_protein_names = os.path.join(data_dir, 'Pfam_model_names_list.pickle')\n",
    "\n",
    "# load the different proteins\n",
    "with open(f_protein_names,'rb') as f:\n",
    "    proteins = pickle.load(f)\n",
    "num_proteins = len(proteins)\n",
    "\n",
    "# encode the sequences to a binary matrix\n",
    "enzymes = encode_data(f_name_list_enzymes, proteins)\n",
    "non_enzymes = encode_data(f_name_list_nonenzyme, proteins)\n",
    "\n",
    "# concatenate everything together\n",
    "X = np.concatenate([enzymes, non_enzymes], axis=0)\n",
    "\n",
    "# the labels are binary (1 for enzymes, 0 for non-enzymes) and are one-hot encoded\n",
    "y = np.concatenate([np.ones([22168,1]), np.zeros([22168,1])], axis=0).flatten()\n",
    "\n",
    "# print a few statistics\n",
    "print('There are %d sequences with %d protein measurements' % (X.shape[0], X.shape[1]))\n",
    "print('There are %d enzyme and %d non-enzyme sequences' % (enzymes.shape[0], non_enzymes.shape[0]))"
   ]
  },
  {
   "cell_type": "markdown",
   "metadata": {
    "id": "VChZ6dD9I35l"
   },
   "source": [
    "Here is a quick glimpse in the data. For a random selection of proteins, we plot the amount of times it was counted in the enzyme and non-enzyme sequences. "
   ]
  },
  {
   "cell_type": "code",
   "execution_count": 5,
   "metadata": {
    "colab": {
     "base_uri": "https://localhost:8080/",
     "height": 279
    },
    "executionInfo": {
     "elapsed": 22475,
     "status": "ok",
     "timestamp": 1607183815783,
     "user": {
      "displayName": "Joris Roels",
      "photoUrl": "https://lh3.googleusercontent.com/a-/AOh14GiO17HAi3vdM28rwcREixXOvi5CItNho4sxx-YCwkU=s64",
      "userId": "00181780506485155029"
     },
     "user_tz": -60
    },
    "id": "8alfRhgtI35n",
    "outputId": "85863012-c7f8-4dfd-f2ee-92474f530365"
   },
   "outputs": [
    {
     "data": {
      "image/png": "[encoded data removed]",
      "text/plain": [
       "<Figure size 432x288 with 1 Axes>"
      ]
     },
     "metadata": {
      "needs_background": "light",
      "tags": []
     },
     "output_type": "display_data"
    }
   ],
   "source": [
    "# selection of indices for the proteins\n",
    "inds = np.random.randint(num_proteins, size=20)\n",
    "proteins_subset = [proteins[i] for i in inds]\n",
    "\n",
    "# compute the sum over the sequences\n",
    "enzymes_sum = np.sum(enzymes, axis=1)\n",
    "non_enzymes_sum = np.sum(non_enzymes, axis=1)\n",
    "\n",
    "# plot the counts on the subset of proteins\n",
    "df = pd.DataFrame({'Enzyme': enzymes_sum[inds], 'Non-enzyme': non_enzymes_sum[inds]}, index=proteins_subset)\n",
    "df.plot.barh()\n",
    "plt.xlabel('Counts')\n",
    "plt.ylabel('Protein')\n",
    "plt.show()"
   ]
  },
  {
   "cell_type": "markdown",
   "metadata": {
    "id": "jMI8G95EI35r"
   },
   "source": [
    "To evaluate our approaches properly, we will split the data in a training and testing set. We will use the training set to train our algorithms and the testing set as a separate set of unseen data to evaluate the performance of our models."
   ]
  },
  {
   "cell_type": "code",
   "execution_count": 6,
   "metadata": {
    "colab": {
     "base_uri": "https://localhost:8080/"
    },
    "executionInfo": {
     "elapsed": 22476,
     "status": "ok",
     "timestamp": 1607183815787,
     "user": {
      "displayName": "Joris Roels",
      "photoUrl": "https://lh3.googleusercontent.com/a-/AOh14GiO17HAi3vdM28rwcREixXOvi5CItNho4sxx-YCwkU=s64",
      "userId": "00181780506485155029"
     },
     "user_tz": -60
    },
    "id": "h_t-j1gWI35s",
    "outputId": "88e75116-25f8-4c96-a556-c0d79db7ab77"
   },
   "outputs": [
    {
     "name": "stdout",
     "output_type": "stream",
     "text": [
      "22168 sequences for training and 22168 for testing\n"
     ]
    }
   ],
   "source": [
    "test_ratio = 0.5 # we will use 50% of the data for testing\n",
    "x_train, x_test, y_train, y_test = train_test_split(X, y, test_size=test_ratio, random_state=seed)\n",
    "\n",
    "print('%d sequences for training and %d for testing' % (x_train.shape[0], x_test.shape[0]))"
   ]
  },
  {
   "cell_type": "markdown",
   "metadata": {
    "id": "kIry8iFZI35y"
   },
   "source": [
    "## 3. Building a neural network with PyTorch\n",
    "\n",
    "Now, we have to implement the neural network and train it. For this, we will use the high-level deep learning library [PyTorch](https://pytorch.org/). PyTorch is a well-known, open-source, machine learning framework that has a comprehensive set of tools and libraries and accelerates research prototyping. It also supports transparant training of machine learning models on GPU devices, which can benefit runtimes significantly. The full documentation can be found [here](https://pytorch.org/docs/stable/index.html). \n",
    "\n",
    "Let's start by defining the architecture of neural network. \n",
    "\n",
    "**Exercise**: build a network with a single hidden layer with PyTorch: \n",
    "- The first layer will be a [fully connected layer](https://pytorch.org/docs/stable/generated/torch.nn.Linear.html#torch.nn.Linear) with [relu](https://pytorch.org/docs/stable/nn.functional.html?highlight=relu#torch.nn.functional.relu) activation that transforms the input features to a 512 dimensional (hidden) feature vector representation. \n",
    "- The output layer is another [fully connected layer](https://pytorch.org/docs/stable/generated/torch.nn.Linear.html#torch.nn.Linear) that transforms the hidden representation to a class probability distribution. \n",
    "- Print the network architecture to validate your architecture. \n",
    "- Run the network on a random batch of samples. Note that you have to transfer the numpy ndarray type inputs to floating point [PyTorch tensors](https://pytorch.org/docs/stable/tensors.html). "
   ]
  },
  {
   "cell_type": "code",
   "execution_count": 7,
   "metadata": {
    "colab": {
     "base_uri": "https://localhost:8080/"
    },
    "executionInfo": {
     "elapsed": 22474,
     "status": "ok",
     "timestamp": 1607183815789,
     "user": {
      "displayName": "Joris Roels",
      "photoUrl": "https://lh3.googleusercontent.com/a-/AOh14GiO17HAi3vdM28rwcREixXOvi5CItNho4sxx-YCwkU=s64",
      "userId": "00181780506485155029"
     },
     "user_tz": -60
    },
    "id": "dhB6nbkXI35z",
    "outputId": "8933194b-fe5e-40cf-f9dd-4dc4491b67ed"
   },
   "outputs": [
    {
     "name": "stdout",
     "output_type": "stream",
     "text": [
      "Net(\n",
      "  (hidden): Linear(in_features=16306, out_features=512, bias=True)\n",
      "  (output): Linear(in_features=512, out_features=2, bias=True)\n",
      ")\n",
      "[[0.49327874 0.5067213 ]\n",
      " [0.49322802 0.5067719 ]\n",
      " [0.49309522 0.5069047 ]\n",
      " [0.4924999  0.5075002 ]]\n"
     ]
    }
   ],
   "source": [
    "# define the number of classes\n",
    "num_classes = 2\n",
    "\n",
    "# The network will inherit the Module class\n",
    "class Net(nn.Module):\n",
    "\n",
    "    def __init__(self, n_features=512):\n",
    "        super(Net, self).__init__()\n",
    "        # first (input) layer\n",
    "        self.hidden = nn.Linear(num_proteins, n_features) \n",
    "        # final layer that generates the output\n",
    "        self.output = nn.Linear(n_features, num_classes)\n",
    "\n",
    "    def forward(self, x):\n",
    "        # forward propagation of the network, we only use relu activation in the first two layers\n",
    "        x = F.relu(self.hidden(x))\n",
    "        x = self.output(x)\n",
    "        return x\n",
    "\n",
    "# initialize the network and print the architecture\n",
    "n_features = 512\n",
    "net = Net(n_features=n_features)\n",
    "print(net)\n",
    "\n",
    "# run the network on a batch of samples\n",
    "# note that we have to transfer the numpy ndarray type inputs to float torch tensors\n",
    "inputs = torch.from_numpy(x_test[:4]).float()\n",
    "outputs = F.softmax(net(inputs), dim=1)\n",
    "print(outputs.detach().numpy())"
   ]
  },
  {
   "cell_type": "markdown",
   "metadata": {
    "id": "WRgIWPOwI354"
   },
   "source": [
    "The summary gives an overview of the network architecture. Note that the network is also randomly initialized and therefore returns random outputs for a set of inputs, i.e. there is a 50% chance that a sequence is (non-)enzyme. \n",
    "\n",
    "**Exercise**: manually compute the amount of parameters in this network and verify this with PyTorch. "
   ]
  },
  {
   "cell_type": "code",
   "execution_count": 8,
   "metadata": {
    "colab": {
     "base_uri": "https://localhost:8080/"
    },
    "executionInfo": {
     "elapsed": 22470,
     "status": "ok",
     "timestamp": 1607183815790,
     "user": {
      "displayName": "Joris Roels",
      "photoUrl": "https://lh3.googleusercontent.com/a-/AOh14GiO17HAi3vdM28rwcREixXOvi5CItNho4sxx-YCwkU=s64",
      "userId": "00181780506485155029"
     },
     "user_tz": -60
    },
    "id": "n8l0jAmOI356",
    "outputId": "cd3acbbe-89e9-4fc0-9f86-e08337da8786"
   },
   "outputs": [
    {
     "name": "stdout",
     "output_type": "stream",
     "text": [
      "There are 8350210 trainable parameters in the network\n"
     ]
    }
   ],
   "source": [
    "n_params = sum(p.numel() for p in net.parameters() if p.requires_grad)\n",
    "print('There are %d trainable parameters in the network' % n_params)"
   ]
  },
  {
   "cell_type": "markdown",
   "metadata": {
    "id": "uXrEb0rTI35-"
   },
   "source": [
    "## 4. Training and validating the network\n",
    "\n",
    "To train this network, we still need two things: a loss function and an optimizer. For the loss function, we will use the commonly used cross entropy loss for classification. For the optimizer, we will use stochastic gradient descent (SGD) with a learning rate of 0.1. "
   ]
  },
  {
   "cell_type": "code",
   "execution_count": 9,
   "metadata": {
    "executionInfo": {
     "elapsed": 22468,
     "status": "ok",
     "timestamp": 1607183815792,
     "user": {
      "displayName": "Joris Roels",
      "photoUrl": "https://lh3.googleusercontent.com/a-/AOh14GiO17HAi3vdM28rwcREixXOvi5CItNho4sxx-YCwkU=s64",
      "userId": "00181780506485155029"
     },
     "user_tz": -60
    },
    "id": "8H8AJGfjI35_"
   },
   "outputs": [],
   "source": [
    "learning_rate = 0.1\n",
    "\n",
    "loss_fn = nn.CrossEntropyLoss()\n",
    "optimizer = optim.SGD(net.parameters(), lr=learning_rate)"
   ]
  },
  {
   "cell_type": "markdown",
   "metadata": {
    "id": "Bz8b8lTkI36C"
   },
   "source": [
    "Great. Now it's time to train our model and implement backpropagation. Fortunately, PyTorch makes this relatively easy. A single optimization iteration consists of the following steps: \n",
    "1. Sample a batch from the training data: we use the convenient [data loading](https://pytorch.org/tutorials/beginner/data_loading_tutorial.html) system provided by PyTorch. You can simply enumerate over the `DataLoader` objects. \n",
    "2. Set all gradients equal to zero. You can use the [`zero_grad()`](https://pytorch.org/docs/stable/generated/torch.nn.Module.html?highlight=zero_grad#torch.nn.Module.zero_grad) function. \n",
    "3. Feed the batch to the network and compute the outputs. \n",
    "4. Compare the outputs to the labels with the loss function. Note that the loss function itself is a `Module` object as well and thus can be treated in a similar fashion as the network for computing outputs. \n",
    "5. Backpropagate the gradients w.r.t. the computed loss. You can use the [`backward()`](https://pytorch.org/docs/stable/autograd.html?highlight=backward#torch.autograd.backward) function for this. \n",
    "6. Apply one step in the optimization (e.g. gradient descent). For this, you will need the optimizer's [`step()`](https://pytorch.org/docs/stable/optim.html#torch.optim.Optimizer.step) function. \n",
    "\n",
    "**Exercise**: train the model with the following settings: \n",
    "- Train the network for 50 epochs\n",
    "- Use a mini batch size of 1024\n",
    "- Track the performance of the classifier by additionally providing the test data. We have already provided a validation function that tracks the accuracy. This function expects a network module, a binary matrix $X$ of sequences, their corresponding labels $y$ and the batch size (for efficiency reasons) as inputs. "
   ]
  },
  {
   "cell_type": "code",
   "execution_count": 10,
   "metadata": {
    "colab": {
     "base_uri": "https://localhost:8080/"
    },
    "executionInfo": {
     "elapsed": 176286,
     "status": "ok",
     "timestamp": 1607183969613,
     "user": {
      "displayName": "Joris Roels",
      "photoUrl": "https://lh3.googleusercontent.com/a-/AOh14GiO17HAi3vdM28rwcREixXOvi5CItNho4sxx-YCwkU=s64",
      "userId": "00181780506485155029"
     },
     "user_tz": -60
    },
    "id": "jkpn9G8AI36D",
    "outputId": "d09b905a-ab30-4b54-a18c-610ded4d27b7"
   },
   "outputs": [
    {
     "name": "stdout",
     "output_type": "stream",
     "text": [
      "Epoch     0 - Train loss: 0.692565 - Train accuracy: 0.505097 - Test loss: 0.692201 - Test accuracy: 0.496436\n",
      "Epoch     1 - Train loss: 0.691568 - Train accuracy: 0.512495 - Test loss: 0.691237 - Test accuracy: 0.503338\n",
      "Epoch     2 - Train loss: 0.690585 - Train accuracy: 0.591077 - Test loss: 0.690283 - Test accuracy: 0.581469\n",
      "Epoch     3 - Train loss: 0.689578 - Train accuracy: 0.606099 - Test loss: 0.689295 - Test accuracy: 0.596896\n",
      "Epoch     4 - Train loss: 0.688505 - Train accuracy: 0.640698 - Test loss: 0.688223 - Test accuracy: 0.632488\n",
      "Epoch     5 - Train loss: 0.687332 - Train accuracy: 0.700650 - Test loss: 0.687044 - Test accuracy: 0.688425\n",
      "Epoch     6 - Train loss: 0.686028 - Train accuracy: 0.752977 - Test loss: 0.685727 - Test accuracy: 0.740166\n",
      "Epoch     7 - Train loss: 0.684563 - Train accuracy: 0.771337 - Test loss: 0.684235 - Test accuracy: 0.763307\n",
      "Epoch     8 - Train loss: 0.682903 - Train accuracy: 0.762225 - Test loss: 0.682555 - Test accuracy: 0.755413\n",
      "Epoch     9 - Train loss: 0.681032 - Train accuracy: 0.754556 - Test loss: 0.680667 - Test accuracy: 0.746978\n",
      "Epoch    10 - Train loss: 0.678930 - Train accuracy: 0.743504 - Test loss: 0.678547 - Test accuracy: 0.734708\n",
      "Epoch    11 - Train loss: 0.676572 - Train accuracy: 0.735294 - Test loss: 0.676179 - Test accuracy: 0.727806\n",
      "Epoch    12 - Train loss: 0.673944 - Train accuracy: 0.723520 - Test loss: 0.673550 - Test accuracy: 0.715671\n",
      "Epoch    13 - Train loss: 0.671032 - Train accuracy: 0.718197 - Test loss: 0.670652 - Test accuracy: 0.711837\n",
      "Epoch    14 - Train loss: 0.667830 - Train accuracy: 0.714047 - Test loss: 0.667483 - Test accuracy: 0.708679\n",
      "Epoch    15 - Train loss: 0.664337 - Train accuracy: 0.711341 - Test loss: 0.664043 - Test accuracy: 0.706333\n",
      "Epoch    16 - Train loss: 0.660552 - Train accuracy: 0.710168 - Test loss: 0.660339 - Test accuracy: 0.704800\n",
      "Epoch    17 - Train loss: 0.656488 - Train accuracy: 0.710168 - Test loss: 0.656381 - Test accuracy: 0.705115\n",
      "Epoch    18 - Train loss: 0.652159 - Train accuracy: 0.709942 - Test loss: 0.652190 - Test accuracy: 0.704574\n",
      "Epoch    19 - Train loss: 0.647585 - Train accuracy: 0.711521 - Test loss: 0.647794 - Test accuracy: 0.705973\n",
      "Epoch    20 - Train loss: 0.642792 - Train accuracy: 0.712784 - Test loss: 0.643210 - Test accuracy: 0.706920\n",
      "Epoch    21 - Train loss: 0.637792 - Train accuracy: 0.714589 - Test loss: 0.638447 - Test accuracy: 0.708544\n",
      "Epoch    22 - Train loss: 0.632589 - Train accuracy: 0.718333 - Test loss: 0.633516 - Test accuracy: 0.712739\n",
      "Epoch    23 - Train loss: 0.627211 - Train accuracy: 0.721987 - Test loss: 0.628447 - Test accuracy: 0.716303\n",
      "Epoch    24 - Train loss: 0.621673 - Train accuracy: 0.728843 - Test loss: 0.623253 - Test accuracy: 0.722708\n",
      "Epoch    25 - Train loss: 0.615996 - Train accuracy: 0.733986 - Test loss: 0.617953 - Test accuracy: 0.727671\n",
      "Epoch    26 - Train loss: 0.610191 - Train accuracy: 0.737685 - Test loss: 0.612550 - Test accuracy: 0.730693\n",
      "Epoch    27 - Train loss: 0.604275 - Train accuracy: 0.742647 - Test loss: 0.607070 - Test accuracy: 0.735339\n",
      "Epoch    28 - Train loss: 0.598266 - Train accuracy: 0.747068 - Test loss: 0.601525 - Test accuracy: 0.739625\n",
      "Epoch    29 - Train loss: 0.592179 - Train accuracy: 0.751714 - Test loss: 0.595926 - Test accuracy: 0.742647\n",
      "Epoch    30 - Train loss: 0.586026 - Train accuracy: 0.757353 - Test loss: 0.590285 - Test accuracy: 0.748196\n",
      "Epoch    31 - Train loss: 0.579819 - Train accuracy: 0.761729 - Test loss: 0.584610 - Test accuracy: 0.753248\n",
      "Epoch    32 - Train loss: 0.573569 - Train accuracy: 0.766510 - Test loss: 0.578916 - Test accuracy: 0.756992\n",
      "Epoch    33 - Train loss: 0.567292 - Train accuracy: 0.770029 - Test loss: 0.573214 - Test accuracy: 0.760781\n",
      "Epoch    34 - Train loss: 0.560998 - Train accuracy: 0.774720 - Test loss: 0.567512 - Test accuracy: 0.764751\n",
      "Epoch    35 - Train loss: 0.554698 - Train accuracy: 0.779818 - Test loss: 0.561818 - Test accuracy: 0.769488\n",
      "Epoch    36 - Train loss: 0.548399 - Train accuracy: 0.784509 - Test loss: 0.556140 - Test accuracy: 0.773863\n",
      "Epoch    37 - Train loss: 0.542109 - Train accuracy: 0.791140 - Test loss: 0.550482 - Test accuracy: 0.780179\n",
      "Epoch    38 - Train loss: 0.535836 - Train accuracy: 0.795877 - Test loss: 0.544851 - Test accuracy: 0.783787\n",
      "Epoch    39 - Train loss: 0.529583 - Train accuracy: 0.799982 - Test loss: 0.539247 - Test accuracy: 0.788028\n",
      "Epoch    40 - Train loss: 0.523353 - Train accuracy: 0.805982 - Test loss: 0.533679 - Test accuracy: 0.793576\n",
      "Epoch    41 - Train loss: 0.517158 - Train accuracy: 0.810087 - Test loss: 0.528153 - Test accuracy: 0.797095\n",
      "Epoch    42 - Train loss: 0.510999 - Train accuracy: 0.816086 - Test loss: 0.522671 - Test accuracy: 0.801245\n",
      "Epoch    43 - Train loss: 0.504882 - Train accuracy: 0.819515 - Test loss: 0.517235 - Test accuracy: 0.805621\n",
      "Epoch    44 - Train loss: 0.498806 - Train accuracy: 0.824432 - Test loss: 0.511847 - Test accuracy: 0.809951\n",
      "Epoch    45 - Train loss: 0.492776 - Train accuracy: 0.827454 - Test loss: 0.506510 - Test accuracy: 0.811846\n",
      "Epoch    46 - Train loss: 0.486794 - Train accuracy: 0.830882 - Test loss: 0.501225 - Test accuracy: 0.815274\n",
      "Epoch    47 - Train loss: 0.480862 - Train accuracy: 0.834897 - Test loss: 0.495995 - Test accuracy: 0.819470\n",
      "Epoch    48 - Train loss: 0.474983 - Train accuracy: 0.836656 - Test loss: 0.490820 - Test accuracy: 0.821409\n",
      "Epoch    49 - Train loss: 0.469158 - Train accuracy: 0.839724 - Test loss: 0.485703 - Test accuracy: 0.825289\n"
     ]
    }
   ],
   "source": [
    "# dataset useful for sampling (and many other things)\n",
    "class ProteinSeqDataset(data.Dataset):\n",
    "    \n",
    "    def __init__(self, data, labels):\n",
    "        self.data = data\n",
    "        self.labels = labels\n",
    "    \n",
    "    def __getitem__(self, i):\n",
    "        return self.data[i], self.labels[i]\n",
    "    \n",
    "    def __len__(self):\n",
    "        return len(self.data)\n",
    "\n",
    "def validate_accuracy(net, X, y, batch_size=1024):\n",
    "    \n",
    "    # evaluation mode\n",
    "    net.eval()\n",
    "    \n",
    "    # save predictions\n",
    "    y_preds = np.zeros((len(y)))\n",
    "    \n",
    "    for b in range(len(y) // batch_size):\n",
    "        \n",
    "        # sample a batch\n",
    "        inputs = X[b*batch_size: (b+1)*batch_size]\n",
    "    \n",
    "        # transform to tensors\n",
    "        inputs = torch.from_numpy(inputs).float().to(device)\n",
    "\n",
    "        # forward call\n",
    "        y_pred = net(inputs)\n",
    "        y_pred = F.softmax(y_pred, dim=1)[:, 1] > 0.5\n",
    "        \n",
    "        # save predictions\n",
    "        y_preds[b*batch_size: (b+1)*batch_size] = y_pred.detach().cpu().numpy()\n",
    "    \n",
    "    # remaining batch\n",
    "    b = len(y) // batch_size\n",
    "    inputs = torch.from_numpy(X[b*batch_size:]).float().to(device)\n",
    "    y_pred = net(inputs)\n",
    "    y_pred = F.softmax(y_pred, dim=1)[:, 1] > 0.5\n",
    "    y_preds[b*batch_size:] = y_pred.detach().cpu().numpy()\n",
    "    \n",
    "    # compute accuracy\n",
    "    acc = accuracy_score(y, y_preds)\n",
    "    \n",
    "    return acc\n",
    "\n",
    "# implementation of a single training epoch\n",
    "def train_epoch(net, loader, loss_fn, optimizer):\n",
    "    \n",
    "    # set the network in training mode\n",
    "    net.train()\n",
    "    \n",
    "    # keep track of the loss\n",
    "    loss_cum = 0\n",
    "    cnt = 0\n",
    "    \n",
    "    for i, data in enumerate(loader): \n",
    "        \n",
    "        # sample data\n",
    "        x, y = data\n",
    "        x = x.float().to(device)\n",
    "        y = y.long().to(device)\n",
    "        \n",
    "        # set all gradients equal to zero\n",
    "        net.zero_grad()\n",
    "        \n",
    "        # feed the batch to the network and compute the outputs\n",
    "        y_pred = net(x)\n",
    "        \n",
    "        # compare the outputs to the labels with the loss function\n",
    "        loss = loss_fn(y_pred, y)\n",
    "        loss_cum += loss.data.cpu().numpy()\n",
    "        cnt += 1\n",
    "        \n",
    "        # backpropagate the gradients w.r.t. computed loss\n",
    "        loss.backward()\n",
    "\n",
    "        # apply one step in the optimization\n",
    "        optimizer.step()\n",
    "    \n",
    "    # compute the average loss\n",
    "    loss_avg = loss_cum / cnt\n",
    "    \n",
    "    return loss_avg\n",
    "\n",
    "# implementation of a single testing epoch\n",
    "def test_epoch(net, loader, loss_fn):\n",
    "    \n",
    "    # set the network in training mode\n",
    "    net.eval()\n",
    "    \n",
    "    # keep track of the loss\n",
    "    loss_cum = 0\n",
    "    cnt = 0\n",
    "    \n",
    "    for i, data in enumerate(loader): \n",
    "        \n",
    "        # sample data\n",
    "        x, y = data\n",
    "        x = x.float().to(device)\n",
    "        y = y.long().to(device)\n",
    "        \n",
    "        # feed the batch to the network and compute the outputs\n",
    "        y_pred = net(x)\n",
    "        \n",
    "        # compare the outputs to the labels with the loss function\n",
    "        loss = loss_fn(y_pred, y)\n",
    "        loss_cum += loss.data.cpu().numpy()\n",
    "        cnt += 1\n",
    "    \n",
    "    # compute the average loss\n",
    "    loss_avg = loss_cum / cnt\n",
    "    \n",
    "    return loss_avg\n",
    "\n",
    "def train_net(net, train_loader, test_loader, loss_fn, optimizer, epochs):\n",
    "    \n",
    "    # transfer the network to the GPU\n",
    "    net = net.cuda()\n",
    "    \n",
    "    train_loss = np.zeros((epochs))\n",
    "    test_loss = np.zeros((epochs))\n",
    "    train_acc = np.zeros((epochs))\n",
    "    test_acc = np.zeros((epochs))\n",
    "    for epoch in range(epochs):\n",
    "        \n",
    "        # training\n",
    "        train_loss[epoch] = train_epoch(net, train_loader, loss_fn, optimizer)\n",
    "        train_acc[epoch] = validate_accuracy(net, x_train, y_train)\n",
    "        \n",
    "        # testing\n",
    "        test_loss[epoch] = test_epoch(net, test_loader, loss_fn)\n",
    "        test_acc[epoch] = validate_accuracy(net, x_test, y_test)\n",
    "        \n",
    "        print('Epoch %5d - Train loss: %.6f - Train accuracy: %.6f - Test loss: %.6f - Test accuracy: %.6f' \n",
    "              % (epoch, train_loss[epoch], train_acc[epoch], test_loss[epoch], test_acc[epoch]))\n",
    "    \n",
    "    return train_loss, test_loss, train_acc, test_acc\n",
    "\n",
    "# parameters\n",
    "n_epochs = 50\n",
    "batch_size = 1024\n",
    "\n",
    "# build a training and testing dataloader that handles batch sampling\n",
    "train_data = ProteinSeqDataset(x_train, y_train)\n",
    "train_loader = DataLoader(train_data, batch_size=batch_size)\n",
    "test_data = ProteinSeqDataset(x_test, y_test)\n",
    "test_loader = DataLoader(test_data, batch_size=batch_size)\n",
    "\n",
    "# start training\n",
    "train_loss, test_loss, train_acc, test_acc = train_net(net, train_loader, test_loader, loss_fn, optimizer, n_epochs)"
   ]
  },
  {
   "cell_type": "markdown",
   "metadata": {
    "id": "tK7oPH6TI36P"
   },
   "source": [
    "Clearly, this is the time intensive part, and it becomes more challenging with larger networks or larger datasets. GPU acceleration is therefore a crucial part. \n",
    "\n",
    "The code below visualizes the learning curves: these curves illustrate how the loss on the train and test set decays over time. Additionally, we also report a similar curve for the train and test accuracy. The final accuracy is also reported. "
   ]
  },
  {
   "cell_type": "code",
   "execution_count": 11,
   "metadata": {
    "colab": {
     "base_uri": "https://localhost:8080/",
     "height": 298
    },
    "executionInfo": {
     "elapsed": 176284,
     "status": "ok",
     "timestamp": 1607183969616,
     "user": {
      "displayName": "Joris Roels",
      "photoUrl": "https://lh3.googleusercontent.com/a-/AOh14GiO17HAi3vdM28rwcREixXOvi5CItNho4sxx-YCwkU=s64",
      "userId": "00181780506485155029"
     },
     "user_tz": -60
    },
    "id": "W6fR4aCwI36Q",
    "outputId": "572c383a-53a8-4e85-835c-6089afc4476e"
   },
   "outputs": [
    {
     "data": {
      "image/png": "[encoded data removed]",
      "text/plain": [
       "<Figure size 792x288 with 2 Axes>"
      ]
     },
     "metadata": {
      "needs_background": "light",
      "tags": []
     },
     "output_type": "display_data"
    },
    {
     "name": "stdout",
     "output_type": "stream",
     "text": [
      "The model obtains an accuracy of 82.53%\n"
     ]
    }
   ],
   "source": [
    "def plot_learning_curves(train_loss, test_loss, train_acc, test_acc):\n",
    "    plt.figure(figsize=(11, 4))\n",
    "    plt.subplot(1, 2, 1)\n",
    "    plt.plot(train_loss)\n",
    "    plt.plot(test_loss)\n",
    "    plt.xlabel('epochs')\n",
    "    plt.ylabel('loss')\n",
    "    plt.legend(('Train', 'Test'))\n",
    "    plt.subplot(1, 2, 2)\n",
    "    plt.plot(train_acc)\n",
    "    plt.plot(test_acc)\n",
    "    plt.xlabel('epochs')\n",
    "    plt.ylabel('accuracy')\n",
    "    plt.legend(('Train', 'Test'))\n",
    "    plt.show()\n",
    "\n",
    "# plot the learning curves (i.e. train/test loss and accuracy)\n",
    "plot_learning_curves(train_loss, test_loss, train_acc, test_acc)\n",
    "\n",
    "# report final accuracy\n",
    "print('The model obtains an accuracy of %.2f%%' % (100*test_acc[-1]))"
   ]
  },
  {
   "cell_type": "markdown",
   "metadata": {
    "id": "xWtU0CXgI36U"
   },
   "source": [
    "You should achieve over 80% accuracy. There are two things we can conclude from the learning curves: \n",
    "\n",
    "- Training still requires a long time, especially if you would compare this to alternative classifiers such as random forests or support vector machines. \n",
    "- The testing curve has reached a plateau, whereas the training curve can still improve. You could increase the amount of epochs and train for a longer period, but this will not improve the test performance that much. Even worse, the performance on the test set would likely become worse! This is called overfitting: the optimization aims to maximize the performance on the training set, focuses on details in the training set and fails to generalize to new data. This is one of the biggest challenges in machine learning. "
   ]
  },
  {
   "cell_type": "markdown",
   "metadata": {
    "id": "o76Hxj7-Mst5"
   },
   "source": [
    "## 5. Improving the model\n",
    "\n",
    "We will try to improve the model by improving the training time and mitigating the overfitting to some extent. \n",
    "\n",
    "**Exercise**: Improve the model by implementing the following adjustments: \n",
    "- Train the network based on [`Adam`](https://pytorch.org/docs/stable/optim.html#torch.optim.Adam) optimization instead of stochastic gradient descent. The Adam optimizer adapts its learning rate over time and therefore improves convergence significantly. For more details on the algorithm, we refer to the [original published paper](https://arxiv.org/pdf/1412.6980.pdf). You can significantly reduce the learning rate (e.g. 0.0001) and number of training epochs (e.g. 20). \n",
    "- The first adjustment to avoid overfitting is reduce the size of the network. At first sight this may seem strange because this reduces the capacity of the network. However, large networks are more likely to focus on details in the training data because of the redundant number of neurons in the hidden layer. Experiment with smaller hidden representations (e.g. 32 or 16). \n",
    "- The second adjustment to mitigate overfitting is [Dropout](https://pytorch.org/docs/stable/generated/torch.nn.Dropout.html). During training, Dropout layers randomly switch off neurons (i.e. their value is temporarily set to zero). This forces the network to use the other neurons to make an appropriate decision. At test time, the dropout layers are obviously ignored and no neurons are switched off. The amount of neurons that are switched off during training is called the dropout factor (e.g. 0.50). For more details, we refer to the [original published paper](https://jmlr.org/papers/volume15/srivastava14a/srivastava14a.pdf). "
   ]
  },
  {
   "cell_type": "code",
   "execution_count": 12,
   "metadata": {
    "colab": {
     "base_uri": "https://localhost:8080/",
     "height": 835
    },
    "executionInfo": {
     "elapsed": 248869,
     "status": "ok",
     "timestamp": 1607184042206,
     "user": {
      "displayName": "Joris Roels",
      "photoUrl": "https://lh3.googleusercontent.com/a-/AOh14GiO17HAi3vdM28rwcREixXOvi5CItNho4sxx-YCwkU=s64",
      "userId": "00181780506485155029"
     },
     "user_tz": -60
    },
    "id": "FtkzDTniI36V",
    "outputId": "ff51e78c-2029-4f69-c670-086f96dc78df"
   },
   "outputs": [
    {
     "name": "stdout",
     "output_type": "stream",
     "text": [
      "ImprovedNet(\n",
      "  (hidden): Linear(in_features=16306, out_features=64, bias=True)\n",
      "  (dropout): Dropout(p=0.75, inplace=False)\n",
      "  (output): Linear(in_features=64, out_features=2, bias=True)\n",
      ")\n",
      "Epoch     0 - Train loss: 0.680493 - Train accuracy: 0.719145 - Test loss: 0.660339 - Test accuracy: 0.688966\n",
      "Epoch     1 - Train loss: 0.626672 - Train accuracy: 0.920967 - Test loss: 0.592484 - Test accuracy: 0.898593\n",
      "Epoch     2 - Train loss: 0.548042 - Train accuracy: 0.910141 - Test loss: 0.514871 - Test accuracy: 0.889210\n",
      "Epoch     3 - Train loss: 0.469625 - Train accuracy: 0.914110 - Test loss: 0.446936 - Test accuracy: 0.891826\n",
      "Epoch     4 - Train loss: 0.405516 - Train accuracy: 0.922320 - Test loss: 0.393538 - Test accuracy: 0.899179\n",
      "Epoch     5 - Train loss: 0.351323 - Train accuracy: 0.930576 - Test loss: 0.352544 - Test accuracy: 0.905855\n",
      "Epoch     6 - Train loss: 0.308936 - Train accuracy: 0.939507 - Test loss: 0.321411 - Test accuracy: 0.915103\n",
      "Epoch     7 - Train loss: 0.276682 - Train accuracy: 0.943387 - Test loss: 0.297395 - Test accuracy: 0.918712\n",
      "Epoch     8 - Train loss: 0.251754 - Train accuracy: 0.948710 - Test loss: 0.278510 - Test accuracy: 0.923358\n",
      "Epoch     9 - Train loss: 0.231095 - Train accuracy: 0.952815 - Test loss: 0.264193 - Test accuracy: 0.927328\n",
      "Epoch    10 - Train loss: 0.212271 - Train accuracy: 0.954755 - Test loss: 0.252536 - Test accuracy: 0.927689\n",
      "Epoch    11 - Train loss: 0.200522 - Train accuracy: 0.956514 - Test loss: 0.243160 - Test accuracy: 0.927869\n",
      "Epoch    12 - Train loss: 0.187204 - Train accuracy: 0.957687 - Test loss: 0.235964 - Test accuracy: 0.928636\n",
      "Epoch    13 - Train loss: 0.176931 - Train accuracy: 0.959175 - Test loss: 0.229693 - Test accuracy: 0.929132\n",
      "Epoch    14 - Train loss: 0.170316 - Train accuracy: 0.962514 - Test loss: 0.224903 - Test accuracy: 0.932019\n",
      "Epoch    15 - Train loss: 0.160158 - Train accuracy: 0.965085 - Test loss: 0.221109 - Test accuracy: 0.933598\n",
      "Epoch    16 - Train loss: 0.154369 - Train accuracy: 0.967566 - Test loss: 0.218236 - Test accuracy: 0.935357\n",
      "Epoch    17 - Train loss: 0.147996 - Train accuracy: 0.968378 - Test loss: 0.215716 - Test accuracy: 0.935538\n",
      "Epoch    18 - Train loss: 0.144077 - Train accuracy: 0.968874 - Test loss: 0.214140 - Test accuracy: 0.935673\n",
      "Epoch    19 - Train loss: 0.138105 - Train accuracy: 0.969596 - Test loss: 0.212939 - Test accuracy: 0.935808\n",
      "Epoch    20 - Train loss: 0.134415 - Train accuracy: 0.970002 - Test loss: 0.211558 - Test accuracy: 0.935853\n",
      "Epoch    21 - Train loss: 0.130127 - Train accuracy: 0.970408 - Test loss: 0.210794 - Test accuracy: 0.936169\n",
      "Epoch    22 - Train loss: 0.126413 - Train accuracy: 0.970543 - Test loss: 0.210600 - Test accuracy: 0.935899\n",
      "Epoch    23 - Train loss: 0.124357 - Train accuracy: 0.970724 - Test loss: 0.210539 - Test accuracy: 0.936575\n",
      "Epoch    24 - Train loss: 0.119881 - Train accuracy: 0.971130 - Test loss: 0.210455 - Test accuracy: 0.936485\n"
     ]
    },
    {
     "data": {
      "image/png": "[encoded data removed]",
      "text/plain": [
       "<Figure size 792x288 with 2 Axes>"
      ]
     },
     "metadata": {
      "needs_background": "light",
      "tags": []
     },
     "output_type": "display_data"
    },
    {
     "name": "stdout",
     "output_type": "stream",
     "text": [
      "The model obtains an accuracy of 93.65%\n"
     ]
    }
   ],
   "source": [
    "# The network will inherit the Module class\n",
    "class ImprovedNet(nn.Module):\n",
    "\n",
    "    def __init__(self, n_features=512, p=0.5):\n",
    "        super(ImprovedNet, self).__init__()\n",
    "        # first (input) layer\n",
    "        self.hidden = nn.Linear(num_proteins, n_features) \n",
    "        self.dropout = nn.Dropout(p=p)\n",
    "        # final layer that generates the output\n",
    "        self.output = nn.Linear(n_features, num_classes)\n",
    "\n",
    "    def forward(self, x):\n",
    "        # forward propagation of the network, we only use relu activation in the first two layers\n",
    "        x = self.dropout(F.relu(self.hidden(x)))\n",
    "        x = self.output(x)\n",
    "        return x\n",
    "\n",
    "# initialize the network and print the architecture\n",
    "n_features = 64\n",
    "p = 0.75 # dropout factor\n",
    "improved_net = ImprovedNet(n_features=n_features, p=p)\n",
    "print(improved_net)\n",
    "\n",
    "# reduce the learning rate\n",
    "learning_rate = 0.001\n",
    "n_epochs = 25\n",
    "\n",
    "# Adam optimization\n",
    "optimizer = optim.Adam(improved_net.parameters(), lr=learning_rate)\n",
    "\n",
    "# start training\n",
    "train_loss, test_loss, train_acc, test_acc = train_net(improved_net, train_loader, test_loader, loss_fn, optimizer, n_epochs)\n",
    "\n",
    "# plot the learning curves (i.e. train/test loss and accuracy)\n",
    "plot_learning_curves(train_loss, test_loss, train_acc, test_acc)\n",
    "\n",
    "# report final accuracy\n",
    "print('The model obtains an accuracy of %.2f%%' % (100*test_acc[-1]))"
   ]
  },
  {
   "cell_type": "markdown",
   "metadata": {
    "id": "R115UJfUI36Z"
   },
   "source": [
    "Great, that looks much better! You should achieve over 93% accuracy in significantly less training time. \n",
    "\n",
    "Of course, there are much more ways of trying to improve the model: e.g. batch normalization, regularization, increase the amount of hidden layers, etc. In what follows, we will study the most frequently used techniques. We will provide guidelines on how to use these techniques, however, it is not always guaranteed that they will improve the model. "
   ]
  },
  {
   "cell_type": "markdown",
   "metadata": {
    "id": "Ult7CTpCMxTi"
   },
   "source": [
    "## 6. Understanding the model\n",
    "\n",
    "To gain more insight in the network, it can be useful to take a look to the hidden representations of the network. To do this, you have to propagate a number of samples through the first hidden layer of the network and visualize them using dimensionality reduction techniques. \n",
    "\n",
    "**Exercise**: Visualize the hidden representations of a batch of samples in 2D to gain more insight in the network's decision process: \n",
    "- Compute the hidden representation of a batch of samples. To do this, you will have to select a batch, transform this in a torch Tensor and apply the hidden and relu layer of the network on the inputs. Since these are also modules, you can use them in a similar fashion as the original network. \n",
    "- Extract the outputs of the networks as a numpy array and apply dimensionality reduction. A common dimensionality reducing method is the t-SNE algorithm. "
   ]
  },
  {
   "cell_type": "code",
   "execution_count": 13,
   "metadata": {
    "colab": {
     "base_uri": "https://localhost:8080/",
     "height": 265
    },
    "executionInfo": {
     "elapsed": 252025,
     "status": "ok",
     "timestamp": 1607184045368,
     "user": {
      "displayName": "Joris Roels",
      "photoUrl": "https://lh3.googleusercontent.com/a-/AOh14GiO17HAi3vdM28rwcREixXOvi5CItNho4sxx-YCwkU=s64",
      "userId": "00181780506485155029"
     },
     "user_tz": -60
    },
    "id": "Tt7F9fwZI36a",
    "outputId": "89992cf7-fd48-4454-9f09-c038f30146ef"
   },
   "outputs": [
    {
     "data": {
      "image/png": "[encoded data removed]",
      "text/plain": [
       "<Figure size 432x288 with 1 Axes>"
      ]
     },
     "metadata": {
      "needs_background": "light",
      "tags": []
     },
     "output_type": "display_data"
    }
   ],
   "source": [
    "# select a batch of samples\n",
    "n = 512\n",
    "batch = x_test[:n]\n",
    "batch_labels = y_test[:n]\n",
    "batch = torch.from_numpy(batch).float().cuda()\n",
    "\n",
    "# compute the hidden representation of the batch\n",
    "h = F.relu(improved_net.hidden(batch))\n",
    "h = h.data.cpu().numpy()\n",
    "\n",
    "# reduce the dimensionality of the hidden representations\n",
    "h_red = TSNE(n_components=2, random_state=seed).fit_transform(h)\n",
    "\n",
    "# visualize the reduced representations and label each sample\n",
    "scatter = plt.scatter(h_red[:, 0], h_red[:, 1], c=batch_labels)\n",
    "plt.legend(handles=scatter.legend_elements()[0], labels=('Non-enzyme', 'Enzyme'))\n",
    "plt.show()"
   ]
  },
  {
   "cell_type": "markdown",
   "metadata": {
    "id": "sN6UbAXdI36f"
   },
   "source": [
    "We can clearly identify two clusters that correspond to the two classes that we would like to predict. The network has optimized its neurons in order to separate these two classes as good as possible. Nevertheless, there also seem to be some positive samples located in the negative cluster and vice versa. These samples probably correspond to false positives and false negatives and are worth investigating further. \n",
    "\n",
    "Another way to analyze the network is by checking which proteins cause the highest hidden activations in enzyme and non-enzyme samples. These features are discriminative for predicting the classes. "
   ]
  },
  {
   "cell_type": "code",
   "execution_count": 14,
   "metadata": {
    "colab": {
     "base_uri": "https://localhost:8080/"
    },
    "executionInfo": {
     "elapsed": 252024,
     "status": "ok",
     "timestamp": 1607184045370,
     "user": {
      "displayName": "Joris Roels",
      "photoUrl": "https://lh3.googleusercontent.com/a-/AOh14GiO17HAi3vdM28rwcREixXOvi5CItNho4sxx-YCwkU=s64",
      "userId": "00181780506485155029"
     },
     "user_tz": -60
    },
    "id": "zP1nUqHmxHyJ",
    "outputId": "56f7b903-8026-412c-9a1e-e3d28ed50e59"
   },
   "outputs": [
    {
     "name": "stdout",
     "output_type": "stream",
     "text": [
      "Discriminative features that result in high activation for enzyme prediction: \n",
      "  - 12TM_1 (mean activation value: 0.206)\n",
      "  - 2-ph_phosp (mean activation value: 0.202)\n",
      "  - 3A (mean activation value: 0.201)\n",
      "  - 7kD_coat (mean activation value: 0.199)\n",
      "  - 7TMR-DISMED2 (mean activation value: 0.196)\n",
      "Discriminative features that result in high activation for non-enzyme prediction: \n",
      "  - 5HT_transport_N (mean activation value: 0.192)\n",
      "  - 5-FTHF_cyc-lig (mean activation value: 0.185)\n",
      "  - 2H-phosphodiest (mean activation value: 0.183)\n",
      "  - 5_3_exonuc (mean activation value: 0.180)\n",
      "  - 14-3-3 (mean activation value: 0.175)\n"
     ]
    }
   ],
   "source": [
    "# isolate the positive and negative samples\n",
    "h_pos = h[batch_labels == 1]\n",
    "h_neg = h[batch_labels == 0]\n",
    "\n",
    "# compute the mean activation\n",
    "h_pos_mean = h_pos.mean(axis=0)\n",
    "h_neg_mean = h_neg.mean(axis=0)\n",
    "\n",
    "# sort the mean activations\n",
    "i_pos = np.argsort(h_pos_mean)\n",
    "i_neg = np.argsort(h_neg_mean)\n",
    "\n",
    "# select the highest activations\n",
    "n = 5\n",
    "i_pos = i_pos[-n:][::-1]\n",
    "i_neg = i_neg[-n:][::-1]\n",
    "\n",
    "print('Discriminative features that result in high activation for enzyme prediction: ')\n",
    "for i in i_pos:\n",
    "    print('  - %s (mean activation value: %.3f)' % (proteins[i], h_pos_mean[i]))\n",
    "print('Discriminative features that result in high activation for non-enzyme prediction: ')\n",
    "for i in i_neg:\n",
    "    print('  - %s (mean activation value: %.3f)' % (proteins[i], h_neg_mean[i]))"
   ]
  },
  {
   "cell_type": "markdown",
   "metadata": {
    "id": "he0PuLhL4X_x"
   },
   "source": [
    "Let's hope these proteins have an interesting meaning w.r.t. enzymes from a biological point of view! \n",
    "\n",
    "Understanding how neural networks make decisions is up to this day still an unresolved problem. Especially as the amount of layers increases, the extracted features tend to become more abstract and more challenging to study. If you are interested in this domain, feel free to dig a little deeper in the Explainable AI research domain. For example, [this blogpost](https://medium.com/@shagunm1210/the-explainable-neural-network-8f95256dcddb) might be a good starting point! "
   ]
  }
 ],
 "metadata": {
  "accelerator": "GPU",
  "colab": {
   "collapsed_sections": [],
   "name": "2020-dlb-1-neural-networks-solution.ipynb",
   "provenance": [],
   "toc_visible": true
  },
  "kernelspec": {
   "display_name": "Python 3",
   "language": "python",
   "name": "python3"
  },
  "language_info": {
   "codemirror_mode": {
    "name": "ipython",
    "version": 3
   },
   "file_extension": ".py",
   "mimetype": "text/x-python",
   "name": "python",
   "nbconvert_exporter": "python",
   "pygments_lexer": "ipython3",
   "version": "3.8.3"
  }
 },
 "nbformat": 4,
 "nbformat_minor": 1
}
