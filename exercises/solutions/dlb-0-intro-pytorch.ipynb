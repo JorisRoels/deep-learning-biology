{
 "cells": [
  {
   "cell_type": "markdown",
   "metadata": {
    "id": "bSg5U4D5I35S"
   },
   "source": [
    "[![Open In Colab](https://colab.research.google.com/assets/colab-badge.svg)](https://colab.research.google.com/github/JorisRoels/deep-learning-biology/blob/main/exercises/solutions/dlb-0-intro-pytorch.ipynb)\n",
    "\n",
    "# Exercise 0: Introduction to PyTorch\n",
    "\n",
    "All of the practical sessions will be largely based on [PyTorch](https://pytorch.org/), a high-level deep learning library. PyTorch is a well-known, open-source, machine learning framework that has a comprehensive set of tools and libraries and accelerates research prototyping. It also supports transparant training of machine learning models on GPU devices, which can benefit runtimes significantly. The full documentation can be found [here](https://pytorch.org/docs/stable/index.html). In this notebook, we will be getting familiar with PyTorch, a popular deep learning library. \n",
    "\n",
    "The structure of these exercises is as follows: \n",
    "\n",
    "0. [Installation (optional)](#scrollTo=NxAs9uJbF5z3)\n",
    "1. [Import libraries](#scrollTo=ScagUEMTMjlK)\n",
    "2. [Data in Pytorch: Tensors](#scrollTo=kIry8iFZI35y)\n",
    "3. [Datasets and dataloaders](#scrollTo=uXrEb0rTI35-)\n",
    "4. [Computational models](#scrollTo=-ET39f_-F50c)\n",
    "\n",
    "This notebook is largely based on the [PyTorch tutorials](https://pytorch.org/tutorials/beginner/basics/intro.html). "
   ]
  },
  {
   "cell_type": "markdown",
   "metadata": {},
   "source": [
    "## 0. Installation (optional)\n",
    "For these exercise sessions, you can either choose to work locally on your own laptop, or remote in Google Colab. This section is required for those who would like to work locally. \n",
    "\n",
    "To get started with the exercise sessions, your environment should satisfy the following prerequisites: \n",
    "1. Check whether you have a [CUDA enabled GPU]. If not, you will have to work on the CPU, which will be significantly slower. we highly suggest to use Google Colab for these sessions in that case. \n",
    "2. Python 3.6 or higher ([install](https://www.python.org/)) - version check: `python --version`\n",
    "3. A package manager: Anaconda [install](https://www.anaconda.com/) or pip [install](https://pypi.org/project/pip/) - pip comes along with the suggested installer from the previous step. In that case you can skip this step. \n",
    "3. CUDA ([install](https://developer.nvidia.com/cuda-zone)) - version check: `nvcc --version`\n",
    "4. PyTorch ([install](https://pytorch.org/)) - select your OS, package manager and compute platform (CUDA version) and run the suggested command. \n",
    "5. To ensure a correct installation, you should be able to run the following cell without errors. "
   ]
  },
  {
   "cell_type": "code",
   "execution_count": 1,
   "metadata": {},
   "outputs": [
    {
     "name": "stdout",
     "output_type": "stream",
     "text": [
      "Succesfully loaded the PyTorch module! \n",
      "CUDA available? True\n"
     ]
    }
   ],
   "source": [
    "import torch\n",
    "print(f'Succesfully loaded the PyTorch module! ')\n",
    "print(f'CUDA available? {torch.cuda.is_available()}')"
   ]
  },
  {
   "cell_type": "markdown",
   "metadata": {},
   "source": [
    "You are now ready to do the exercises locally! "
   ]
  },
  {
   "cell_type": "markdown",
   "metadata": {
    "id": "ScagUEMTMjlK"
   },
   "source": [
    "## 1. Import libraries\n",
    "Let's start with importing the necessary libraries. "
   ]
  },
  {
   "cell_type": "code",
   "execution_count": 2,
   "metadata": {
    "executionInfo": {
     "elapsed": 1152,
     "status": "ok",
     "timestamp": 1607183794439,
     "user": {
      "displayName": "Joris Roels",
      "photoUrl": "https://lh3.googleusercontent.com/a-/AOh14GiO17HAi3vdM28rwcREixXOvi5CItNho4sxx-YCwkU=s64",
      "userId": "00181780506485155029"
     },
     "user_tz": -60
    },
    "id": "S1oGi88ZU8eN"
   },
   "outputs": [],
   "source": [
    "import numpy as np\n",
    "import time\n",
    "import matplotlib.pyplot as plt\n",
    "plt.rcdefaults()\n",
    "%matplotlib inline\n",
    "import time\n",
    "import random\n",
    "import torch\n",
    "import torch.nn as nn\n",
    "import torch.nn.functional as F\n",
    "import torch.optim as optim\n",
    "import torch.utils.data as data\n",
    "from torch.utils.data import Dataset\n",
    "from torch.utils.data import DataLoader\n",
    "from torchvision import datasets\n",
    "from IPython import display"
   ]
  },
  {
   "cell_type": "markdown",
   "metadata": {
    "id": "yIPng9wbV-Zs"
   },
   "source": [
    "As you will notice, Colab environments come with quite a large library pre-installed. If you need to import a module that is not yet specified, you can add it in the previous cell (make sure to run it again). If the module is not installed, you can install it with `pip`. \n",
    "\n",
    "To make your work reproducible, it is advised to initialize all modules with stochastic functionality with a fixed seed. Re-running this script should give the same results as long as the seed is fixed. "
   ]
  },
  {
   "cell_type": "code",
   "execution_count": 3,
   "metadata": {
    "colab": {
     "base_uri": "https://localhost:8080/"
    },
    "executionInfo": {
     "elapsed": 1463,
     "status": "ok",
     "timestamp": 1607183794755,
     "user": {
      "displayName": "Joris Roels",
      "photoUrl": "https://lh3.googleusercontent.com/a-/AOh14GiO17HAi3vdM28rwcREixXOvi5CItNho4sxx-YCwkU=s64",
      "userId": "00181780506485155029"
     },
     "user_tz": -60
    },
    "id": "8OOFPFLiV-mh",
    "outputId": "664cfd92-aed4-46c4-9cde-0d5a8c699082"
   },
   "outputs": [],
   "source": [
    "# make sure the results are reproducible\n",
    "seed = 0\n",
    "np.random.seed(seed)\n",
    "random.seed(seed)\n",
    "torch.manual_seed(seed)\n",
    "torch.backends.cudnn.deterministic = True\n",
    "torch.backends.cudnn.benchmark = False"
   ]
  },
  {
   "cell_type": "markdown",
   "metadata": {
    "id": "PjfnM2ffU9G0"
   },
   "source": [
    "To be able to perform calculations in parallel, you will need a decent GPU device. Let's find out which devices are available in this environment. PyTorch can help you with this. \n",
    "\n",
    "**Exercise**: \n",
    "- Find out which devices are available using the functions available in the [`torch.cuda`](https://pytorch.org/docs/stable/cuda.html) module. "
   ]
  },
  {
   "cell_type": "code",
   "execution_count": 4,
   "metadata": {},
   "outputs": [
    {
     "name": "stdout",
     "output_type": "stream",
     "text": [
      "Number of available devices: 1\n",
      "_CudaDeviceProperties(name='Quadro P2000', major=6, minor=1, total_memory=4042MB, multi_processor_count=6)\n"
     ]
    }
   ],
   "source": [
    "# get the amount of available devices\n",
    "n_devices = torch.cuda.device_count()\n",
    "print(f'Number of available devices: {n_devices}')\n",
    "\n",
    "# get stats of each available device\n",
    "for i in range(n_devices):\n",
    "    device = torch.cuda.device(i)\n",
    "    print(torch.cuda.get_device_properties(device))\n",
    "\n",
    "# select the first GPU as our target device\n",
    "device = 0"
   ]
  },
  {
   "cell_type": "markdown",
   "metadata": {},
   "source": [
    "Depending on your hardware configuration, you will see the available devices. In Google Colab, you should have at least one GPU available. If not, go to \"Runtime > Change runtime type\" and make sure that GPU is selected as hardware accelerator (adjustments will require a session restart). \n",
    "\n",
    "You are now ready to do some calculations using the selected GPU device in PyTorch. "
   ]
  },
  {
   "cell_type": "markdown",
   "metadata": {
    "id": "kIry8iFZI35y"
   },
   "source": [
    "## 2. Data in PyTorch: Tensors\n",
    "\n",
    "When you think about representing data in Python, you will probably think about numpy arrays (i.e. `ndarray` objects) and the many useful operations that can be performed with these data structures. Unfortunately, numpy does not allow computations on accelerated devices such as GPUs. PyTorch aims to resolve this issue, while also being fully compatible with numpy. Instead of `ndarray` objects, PyTorch uses `Tensor` objects, which are basically multidimensional arrays.  \n",
    "\n",
    "Let's have a look at an example. In the code snippet below, we implement a dot product between two vectors in numpy. "
   ]
  },
  {
   "cell_type": "code",
   "execution_count": 5,
   "metadata": {
    "colab": {
     "base_uri": "https://localhost:8080/"
    },
    "executionInfo": {
     "elapsed": 22474,
     "status": "ok",
     "timestamp": 1607183815789,
     "user": {
      "displayName": "Joris Roels",
      "photoUrl": "https://lh3.googleusercontent.com/a-/AOh14GiO17HAi3vdM28rwcREixXOvi5CItNho4sxx-YCwkU=s64",
      "userId": "00181780506485155029"
     },
     "user_tz": -60
    },
    "id": "dhB6nbkXI35z",
    "outputId": "8933194b-fe5e-40cf-f9dd-4dc4491b67ed"
   },
   "outputs": [
    {
     "name": "stdout",
     "output_type": "stream",
     "text": [
      "[1. 2. 3. 4.]\n",
      "[5. 6. 7. 8.]\n",
      "70.0\n"
     ]
    }
   ],
   "source": [
    "# initialize the two vectors\n",
    "a = np.array([1., 2., 3., 4.])\n",
    "b = np.array([5., 6., 7., 8.])\n",
    "print(a)\n",
    "print(b)\n",
    "\n",
    "# compute the dot product\n",
    "dot = np.dot(a, b)\n",
    "print(dot)"
   ]
  },
  {
   "cell_type": "markdown",
   "metadata": {
    "id": "WRgIWPOwI354"
   },
   "source": [
    "In PyTorch we can do this using a very similar syntax. "
   ]
  },
  {
   "cell_type": "code",
   "execution_count": 6,
   "metadata": {},
   "outputs": [
    {
     "name": "stdout",
     "output_type": "stream",
     "text": [
      "tensor([1., 2., 3., 4.])\n",
      "tensor([5., 6., 7., 8.])\n",
      "tensor(70.)\n"
     ]
    }
   ],
   "source": [
    "# initialize the two vectors\n",
    "a = torch.tensor([1., 2., 3., 4.])\n",
    "b = torch.tensor([5., 6., 7., 8.])\n",
    "print(a)\n",
    "print(b)\n",
    "\n",
    "# compute the dot product\n",
    "dot = torch.dot(a, b)\n",
    "print(dot)"
   ]
  },
  {
   "cell_type": "markdown",
   "metadata": {},
   "source": [
    "To port the numpy code to PyTorch, you basically have to change `np.array` into `torch.tensor` and `np` into `torch`. Note this will definitely not always be the case as there are still some differences in the interface. \n",
    "\n",
    "However, now we can run the PyTorch code on the GPU by simply calling the `to` method of the Tensor class with the device index that we selected just before. "
   ]
  },
  {
   "cell_type": "code",
   "execution_count": 7,
   "metadata": {},
   "outputs": [
    {
     "name": "stdout",
     "output_type": "stream",
     "text": [
      "tensor([1., 2., 3., 4.], device='cuda:0')\n",
      "tensor([5., 6., 7., 8.], device='cuda:0')\n",
      "tensor(70., device='cuda:0')\n"
     ]
    }
   ],
   "source": [
    "# initialize the two vectors\n",
    "a = torch.tensor([1., 2., 3., 4.]).to(device)\n",
    "b = torch.tensor([5., 6., 7., 8.]).to(device)\n",
    "print(a)\n",
    "print(b)\n",
    "\n",
    "# compute the dot product\n",
    "dot = torch.dot(a, b)\n",
    "print(dot)"
   ]
  },
  {
   "cell_type": "markdown",
   "metadata": {},
   "source": [
    "Very straightforward to perform calculations on the GPU! Note: if you want to run the computations in PyTorch on CPU, you can always set `device = 'cpu'`. Switching between tensors and numpy arrays is simple: "
   ]
  },
  {
   "cell_type": "code",
   "execution_count": 8,
   "metadata": {},
   "outputs": [
    {
     "name": "stdout",
     "output_type": "stream",
     "text": [
      "<class 'numpy.ndarray'>\n",
      "<class 'torch.Tensor'>\n"
     ]
    }
   ],
   "source": [
    "# convert a tensor to a numpy array\n",
    "a = a.to('cpu').numpy()\n",
    "print(a.__class__)\n",
    "\n",
    "# convert a numpy array to a tensor\n",
    "a = torch.from_numpy(a)\n",
    "print(a.__class__)"
   ]
  },
  {
   "cell_type": "markdown",
   "metadata": {},
   "source": [
    "Keep in mind that you first have to transfer the tensor to the CPU before you convert it into a numpy array. \n",
    "\n",
    "You can initialize tensors in various ways: "
   ]
  },
  {
   "cell_type": "code",
   "execution_count": 9,
   "metadata": {},
   "outputs": [
    {
     "name": "stdout",
     "output_type": "stream",
     "text": [
      "Random Tensor: \n",
      " tensor([[0.4963, 0.7682, 0.0885],\n",
      "        [0.1320, 0.3074, 0.6341]]) \n",
      "\n",
      "Ones Tensor: \n",
      " tensor([[1., 1., 1.],\n",
      "        [1., 1., 1.]]) \n",
      "\n",
      "Zeros Tensor: \n",
      " tensor([[0., 0., 0.],\n",
      "        [0., 0., 0.]])\n"
     ]
    }
   ],
   "source": [
    "# desired shape of the tensor\n",
    "shape = (2, 3)\n",
    "\n",
    "# initialization\n",
    "rand_tensor = torch.rand(shape)\n",
    "ones_tensor = torch.ones(shape)\n",
    "zeros_tensor = torch.zeros(shape)\n",
    "\n",
    "print(f\"Random Tensor: \\n {rand_tensor} \\n\")\n",
    "print(f\"Ones Tensor: \\n {ones_tensor} \\n\")\n",
    "print(f\"Zeros Tensor: \\n {zeros_tensor}\")"
   ]
  },
  {
   "cell_type": "markdown",
   "metadata": {},
   "source": [
    "Furthermore, tensors have various attributes that you can use. "
   ]
  },
  {
   "cell_type": "code",
   "execution_count": 10,
   "metadata": {},
   "outputs": [
    {
     "name": "stdout",
     "output_type": "stream",
     "text": [
      "Shape of tensor: torch.Size([3, 4])\n",
      "Datatype of tensor: torch.float32\n",
      "Device tensor is stored on: cpu\n"
     ]
    }
   ],
   "source": [
    "tensor = torch.rand(3,4)\n",
    "\n",
    "print(f\"Shape of tensor: {tensor.shape}\")\n",
    "print(f\"Datatype of tensor: {tensor.dtype}\")\n",
    "print(f\"Device tensor is stored on: {tensor.device}\")"
   ]
  },
  {
   "cell_type": "markdown",
   "metadata": {},
   "source": [
    "Now it's your time to experiment with PyTorch! \n",
    "\n",
    "**Exercise**: get familiar with the PyTorch documentation. \n",
    "- Implement the (numpy based) code below using PyTorch. \n",
    "- Transfer all tensors to a GPU device. \n",
    "- Wrap both the numpy and pytorch code within a for loop and measure the runtime over a number of repetitions (you can use the `time.time()` function). Experiment with the amount of repetitions and the size of the arrays/tensors. How do numpy and PyTorch compare? "
   ]
  },
  {
   "cell_type": "code",
   "execution_count": 11,
   "metadata": {},
   "outputs": [
    {
     "name": "stdout",
     "output_type": "stream",
     "text": [
      "[[ 1.76405235  0.40015721  0.97873798  2.2408932 ]\n",
      " [ 1.86755799 -0.97727788  0.95008842 -0.15135721]\n",
      " [-0.10321885  0.4105985   0.14404357  1.45427351]\n",
      " [ 0.76103773  0.12167502  0.44386323  0.33367433]]\n",
      "[[ 1.49407907 -0.20515826  0.3130677  -0.85409574]\n",
      " [-2.55298982  0.6536186   0.8644362  -0.74216502]\n",
      " [ 2.26975462 -1.45436567  0.04575852 -0.18718385]\n",
      " [ 1.53277921  1.46935877  0.15494743  0.37816252]]\n",
      "[[2.35510072 0.96279603 0.72458616 1.23089613]\n",
      " [2.34427337 1.66235797 0.87174643 1.21904292]\n",
      " [0.76041767 1.14157238 0.30443694 0.54866829]\n",
      " [1.18786272 0.86776702 0.45769284 1.06947055]]\n"
     ]
    }
   ],
   "source": [
    "# perform various operations on these matrices\n",
    "def numpy_ops(X, Y):\n",
    "    W = np.matmul(X, Y)\n",
    "    W = W - np.mean(X)\n",
    "    W = W / np.std(Y)\n",
    "    W = np.sqrt(np.abs(W))\n",
    "    return W\n",
    "\n",
    "# size of the matrix\n",
    "n = 4\n",
    "\n",
    "# randomly define two matrices\n",
    "X = np.random.randn(n, n)\n",
    "Y = np.random.randn(n, n)\n",
    "W = numpy_ops(X, Y)\n",
    "print(X)\n",
    "print(Y)\n",
    "print(W)"
   ]
  },
  {
   "cell_type": "code",
   "execution_count": 12,
   "metadata": {},
   "outputs": [
    {
     "data": {
      "image/png": "[encoded data removed]",
      "text/plain": [
       "<Figure size 432x288 with 1 Axes>"
      ]
     },
     "metadata": {
      "needs_background": "light"
     },
     "output_type": "display_data"
    }
   ],
   "source": [
    "# perform various operations on these matrices\n",
    "def torch_ops(X, Y):\n",
    "    W = torch.matmul(X, Y)\n",
    "    W = W - torch.mean(X)\n",
    "    W = W / torch.std(Y)\n",
    "    W = torch.sqrt(torch.abs(W))\n",
    "    return W\n",
    "\n",
    "# number of repetitions\n",
    "reps = 1\n",
    "# size of the matrices\n",
    "ns = 2**np.arange(1, 14)\n",
    "\n",
    "# run numpy code\n",
    "numpy_times = np.zeros_like(ns, dtype=float)\n",
    "for i, n in enumerate(ns):\n",
    "    X = np.random.randn(n, n)\n",
    "    Y = np.random.randn(n, n)\n",
    "    t = time.time()\n",
    "    for r in range(reps):\n",
    "        W = numpy_ops(X, Y)\n",
    "    numpy_times[i] = (time.time() - t)\n",
    "\n",
    "# run pytorch code\n",
    "torch_times = np.zeros_like(ns, dtype=float)\n",
    "for i, n in enumerate(ns):\n",
    "    X = torch.randn(n, n).to(device)\n",
    "    Y = torch.randn(n, n).to(device)\n",
    "    t = time.time()\n",
    "    for r in range(reps):\n",
    "        W = torch_ops(X, Y)\n",
    "    torch_times[i] = (time.time() - t)\n",
    "    \n",
    "# visualize results\n",
    "plt.plot(ns, numpy_times)\n",
    "plt.plot(ns, torch_times)\n",
    "plt.xscale('log')\n",
    "plt.yscale('log')\n",
    "plt.legend(('Numpy', 'PyTorch'))\n",
    "plt.xlabel('Size matrices')\n",
    "plt.ylabel('Ellapsed time (seconds)')\n",
    "plt.show()"
   ]
  },
  {
   "cell_type": "markdown",
   "metadata": {
    "colab": {
     "base_uri": "https://localhost:8080/"
    },
    "executionInfo": {
     "elapsed": 22470,
     "status": "ok",
     "timestamp": 1607183815790,
     "user": {
      "displayName": "Joris Roels",
      "photoUrl": "https://lh3.googleusercontent.com/a-/AOh14GiO17HAi3vdM28rwcREixXOvi5CItNho4sxx-YCwkU=s64",
      "userId": "00181780506485155029"
     },
     "user_tz": -60
    },
    "id": "n8l0jAmOI356",
    "outputId": "cd3acbbe-89e9-4fc0-9f86-e08337da8786"
   },
   "source": [
    "We can draw two main conclusions from these experiments: \n",
    "- The PyTorch implementation scales significantly better towards larger inputs due to the large amounts of operations that can be performed in parallel. GPUs are ideal for parallel computing, whereas classical CPUs are more suitable for sequential processing. \n",
    "- For smaller inputs, it can be that the numpy implementation outperforms PyTorch. This is largely due to the fact that memory transfers between the CPU and GPU cause too much overhead compared to the parallelism performance gain. Before deploying models on a GPU device, it is therefore crucial to have sufficiently large datasets. \n",
    "\n",
    "Now that we know how tensors are used in PyTorch, we are ready to work with actual data in so-called datasets and dataloaders. "
   ]
  },
  {
   "cell_type": "markdown",
   "metadata": {
    "id": "uXrEb0rTI35-"
   },
   "source": [
    "## 4. Datasets and dataloaders\n",
    "\n",
    "Ideally, you would like to decouple data from your predictive model. This would allow you to easily try out a specific model on a different dataset (or another model on the same dataset). The data management part that enables this in PyTorch is handled by the `torch.utils.data.Dataset` and `torch.utils.data.DataLoader` classes. `Dataset` stores the samples (and, optionally, their corresponding labels), and `DataLoader` wraps an iterable around the `Dataset` to enable easy access to the samples.\n",
    "\n",
    "Lots of commonly used datasets are available in PyTorch. Check out the [documentation](https://pytorch.org/vision/stable/datasets.html) for a full overview. For example, let's try and load the well-known MNIST dataset. "
   ]
  },
  {
   "cell_type": "code",
   "execution_count": 13,
   "metadata": {},
   "outputs": [
    {
     "name": "stdout",
     "output_type": "stream",
     "text": [
      "Downloading http://yann.lecun.com/exdb/mnist/train-images-idx3-ubyte.gz\n",
      "Downloading http://yann.lecun.com/exdb/mnist/train-images-idx3-ubyte.gz to data/MNIST/raw/train-images-idx3-ubyte.gz\n"
     ]
    },
    {
     "data": {
      "application/vnd.jupyter.widget-view+json": {
       "model_id": "88dc03bb3799483abf79cbd2ccacf2d6",
       "version_major": 2,
       "version_minor": 0
      },
      "text/plain": [
       "  0%|          | 0/9912422 [00:00<?, ?it/s]"
      ]
     },
     "metadata": {},
     "output_type": "display_data"
    },
    {
     "name": "stdout",
     "output_type": "stream",
     "text": [
      "Extracting data/MNIST/raw/train-images-idx3-ubyte.gz to data/MNIST/raw\n",
      "\n",
      "Downloading http://yann.lecun.com/exdb/mnist/train-labels-idx1-ubyte.gz\n",
      "Downloading http://yann.lecun.com/exdb/mnist/train-labels-idx1-ubyte.gz to data/MNIST/raw/train-labels-idx1-ubyte.gz\n"
     ]
    },
    {
     "data": {
      "application/vnd.jupyter.widget-view+json": {
       "model_id": "2e4ba15a73f34a08be66a3fd514bb8e9",
       "version_major": 2,
       "version_minor": 0
      },
      "text/plain": [
       "  0%|          | 0/28881 [00:00<?, ?it/s]"
      ]
     },
     "metadata": {},
     "output_type": "display_data"
    },
    {
     "name": "stdout",
     "output_type": "stream",
     "text": [
      "Extracting data/MNIST/raw/train-labels-idx1-ubyte.gz to data/MNIST/raw\n",
      "\n",
      "Downloading http://yann.lecun.com/exdb/mnist/t10k-images-idx3-ubyte.gz\n",
      "Downloading http://yann.lecun.com/exdb/mnist/t10k-images-idx3-ubyte.gz to data/MNIST/raw/t10k-images-idx3-ubyte.gz\n"
     ]
    },
    {
     "data": {
      "application/vnd.jupyter.widget-view+json": {
       "model_id": "09f2085105bc4af68eae3af2bb053ca0",
       "version_major": 2,
       "version_minor": 0
      },
      "text/plain": [
       "  0%|          | 0/1648877 [00:00<?, ?it/s]"
      ]
     },
     "metadata": {},
     "output_type": "display_data"
    },
    {
     "name": "stdout",
     "output_type": "stream",
     "text": [
      "Extracting data/MNIST/raw/t10k-images-idx3-ubyte.gz to data/MNIST/raw\n",
      "\n",
      "Downloading http://yann.lecun.com/exdb/mnist/t10k-labels-idx1-ubyte.gz\n",
      "Downloading http://yann.lecun.com/exdb/mnist/t10k-labels-idx1-ubyte.gz to data/MNIST/raw/t10k-labels-idx1-ubyte.gz\n"
     ]
    },
    {
     "data": {
      "application/vnd.jupyter.widget-view+json": {
       "model_id": "42a12c77f6654a168e43ef671c093e42",
       "version_major": 2,
       "version_minor": 0
      },
      "text/plain": [
       "  0%|          | 0/4542 [00:00<?, ?it/s]"
      ]
     },
     "metadata": {},
     "output_type": "display_data"
    },
    {
     "name": "stdout",
     "output_type": "stream",
     "text": [
      "Extracting data/MNIST/raw/t10k-labels-idx1-ubyte.gz to data/MNIST/raw\n",
      "\n"
     ]
    },
    {
     "name": "stderr",
     "output_type": "stream",
     "text": [
      "/home/jorisro/anaconda3/lib/python3.8/site-packages/torchvision/datasets/mnist.py:498: UserWarning: The given NumPy array is not writeable, and PyTorch does not support non-writeable tensors. This means you can write to the underlying (supposedly non-writeable) NumPy array using the tensor. You may want to copy the array to protect its data or make it writeable before converting it to a tensor. This type of warning will be suppressed for the rest of this program. (Triggered internally at  ../torch/csrc/utils/tensor_numpy.cpp:180.)\n",
      "  return torch.from_numpy(parsed.astype(m[2], copy=False)).view(*s)\n"
     ]
    }
   ],
   "source": [
    "training_data = datasets.MNIST(\n",
    "    root=\"data\",\n",
    "    train=True,\n",
    "    download=True\n",
    ")\n",
    "\n",
    "test_data = datasets.MNIST(\n",
    "    root=\"data\",\n",
    "    train=False,\n",
    "    download=True\n",
    ")"
   ]
  },
  {
   "cell_type": "markdown",
   "metadata": {},
   "source": [
    "If you haven't downloaded this dataset yet in the specified root directory, this will download and extract it. Note that this dataset consists of a training and testing part. \n",
    "\n",
    "The `training_data` and `test_data` objects inherit from the `torch.utils.data.Dataset` and can be used for sampling through indexing, similar to lists. In other words, `training_data[i]` will return the `i`th training sample of the MNIST dataset, which is a tuple of an image of a digit and the corresponding label. The following code illustrates this principle and shows a few examples of the MNIST dataset. "
   ]
  },
  {
   "cell_type": "code",
   "execution_count": 14,
   "metadata": {},
   "outputs": [
    {
     "data": {
      "image/png": "[encoded data removed]",
      "text/plain": [
       "<Figure size 576x576 with 9 Axes>"
      ]
     },
     "metadata": {
      "needs_background": "light"
     },
     "output_type": "display_data"
    }
   ],
   "source": [
    "figure = plt.figure(figsize=(8, 8))\n",
    "cols, rows = 3, 3\n",
    "for i in range(1, cols * rows + 1):\n",
    "    sample_idx = torch.randint(len(training_data), size=(1,)).item()\n",
    "    img, label = training_data[sample_idx]\n",
    "    figure.add_subplot(rows, cols, i)\n",
    "    plt.title(label)\n",
    "    plt.axis(\"off\")\n",
    "    plt.imshow(img, cmap=\"gray\")\n",
    "plt.show()"
   ]
  },
  {
   "cell_type": "markdown",
   "metadata": {},
   "source": [
    "Let's have a closer look at these datasets by printing out all their variables. "
   ]
  },
  {
   "cell_type": "code",
   "execution_count": 15,
   "metadata": {},
   "outputs": [
    {
     "data": {
      "text/plain": [
       "{'root': 'data',\n",
       " 'transform': None,\n",
       " 'target_transform': None,\n",
       " 'transforms': None,\n",
       " 'train': True,\n",
       " 'data': tensor([[[0, 0, 0,  ..., 0, 0, 0],\n",
       "          [0, 0, 0,  ..., 0, 0, 0],\n",
       "          [0, 0, 0,  ..., 0, 0, 0],\n",
       "          ...,\n",
       "          [0, 0, 0,  ..., 0, 0, 0],\n",
       "          [0, 0, 0,  ..., 0, 0, 0],\n",
       "          [0, 0, 0,  ..., 0, 0, 0]],\n",
       " \n",
       "         [[0, 0, 0,  ..., 0, 0, 0],\n",
       "          [0, 0, 0,  ..., 0, 0, 0],\n",
       "          [0, 0, 0,  ..., 0, 0, 0],\n",
       "          ...,\n",
       "          [0, 0, 0,  ..., 0, 0, 0],\n",
       "          [0, 0, 0,  ..., 0, 0, 0],\n",
       "          [0, 0, 0,  ..., 0, 0, 0]],\n",
       " \n",
       "         [[0, 0, 0,  ..., 0, 0, 0],\n",
       "          [0, 0, 0,  ..., 0, 0, 0],\n",
       "          [0, 0, 0,  ..., 0, 0, 0],\n",
       "          ...,\n",
       "          [0, 0, 0,  ..., 0, 0, 0],\n",
       "          [0, 0, 0,  ..., 0, 0, 0],\n",
       "          [0, 0, 0,  ..., 0, 0, 0]],\n",
       " \n",
       "         ...,\n",
       " \n",
       "         [[0, 0, 0,  ..., 0, 0, 0],\n",
       "          [0, 0, 0,  ..., 0, 0, 0],\n",
       "          [0, 0, 0,  ..., 0, 0, 0],\n",
       "          ...,\n",
       "          [0, 0, 0,  ..., 0, 0, 0],\n",
       "          [0, 0, 0,  ..., 0, 0, 0],\n",
       "          [0, 0, 0,  ..., 0, 0, 0]],\n",
       " \n",
       "         [[0, 0, 0,  ..., 0, 0, 0],\n",
       "          [0, 0, 0,  ..., 0, 0, 0],\n",
       "          [0, 0, 0,  ..., 0, 0, 0],\n",
       "          ...,\n",
       "          [0, 0, 0,  ..., 0, 0, 0],\n",
       "          [0, 0, 0,  ..., 0, 0, 0],\n",
       "          [0, 0, 0,  ..., 0, 0, 0]],\n",
       " \n",
       "         [[0, 0, 0,  ..., 0, 0, 0],\n",
       "          [0, 0, 0,  ..., 0, 0, 0],\n",
       "          [0, 0, 0,  ..., 0, 0, 0],\n",
       "          ...,\n",
       "          [0, 0, 0,  ..., 0, 0, 0],\n",
       "          [0, 0, 0,  ..., 0, 0, 0],\n",
       "          [0, 0, 0,  ..., 0, 0, 0]]], dtype=torch.uint8),\n",
       " 'targets': tensor([5, 0, 4,  ..., 5, 6, 8])}"
      ]
     },
     "execution_count": 15,
     "metadata": {},
     "output_type": "execute_result"
    }
   ],
   "source": [
    "vars(training_data)"
   ]
  },
  {
   "cell_type": "markdown",
   "metadata": {},
   "source": [
    "You can see that the data and corresponding target labels are stored in memory as tensors. \n",
    "\n",
    "It is more likely that you would like to try out PyTorch models on your own data, instead of public datasets such as MNIST. To do this, you simply have to define a new class that inherits from `torch.utils.data.Dataset` and implement three functions: \n",
    "- `__init__`: this is the initializer of the class and will be called whenever a new instance of the class is generated. Common tasks that are performed in this method include loading the data (if they fit in memory), data pre-processing, etc. \n",
    "- `__len__`: this function returns the length of the dataset. \n",
    "- `__getitem__`: this function takes an index `i` as argument and returns the `i`th sample. \n",
    "\n",
    "**Exercise**: implement your own dataset that contains randomly generated data and labels by filling in the following skeleton code. "
   ]
  },
  {
   "cell_type": "code",
   "execution_count": 16,
   "metadata": {},
   "outputs": [
    {
     "name": "stdout",
     "output_type": "stream",
     "text": [
      "[-0.71216714 -0.1070374  -1.25278353  1.49471473  2.68525716  1.21700408\n",
      "  2.16136983 -1.35365079  0.73299317 -1.09428384 -0.27164224  0.50199799\n",
      "  0.04181315 -1.35381196 -0.13851385  0.75170024 -0.69435849  0.87222505\n",
      "  0.62612781  0.53762138]\n",
      "5\n"
     ]
    }
   ],
   "source": [
    "class CustomDataset(Dataset):\n",
    "    \n",
    "    def __init__(self, n_samples=100, n_classes=10, data_dim=20):\n",
    "        self.data = np.random.randn(n_samples, data_dim)\n",
    "        self.labels = np.random.randint(n_classes, size=(n_samples))\n",
    "    \n",
    "    def __len__(self):\n",
    "        return self.data.shape[0]\n",
    "    \n",
    "    def __getitem__(self, i):\n",
    "        return (self.data[i], self.labels[i])\n",
    "\n",
    "data = CustomDataset(n_samples=100, n_classes=10, data_dim=20)\n",
    "x, y = data[0]\n",
    "print(x)\n",
    "print(y)"
   ]
  },
  {
   "cell_type": "markdown",
   "metadata": {},
   "source": [
    "Excellent! Now we are ready to define computational models in PyTorch! "
   ]
  },
  {
   "cell_type": "markdown",
   "metadata": {},
   "source": [
    "## 5. Computational models\n",
    "\n",
    "PyTorch uses the so-called `torch.nn.Module` class to represent functions that take one or more inputs and generate one or more outputs. Neural networks, as we will see in the following sessions, also fall within this category. \n",
    "\n",
    "As an example, let's look at a simple function that takes a vector as input, multiplies it with a number and adds a number to the result. "
   ]
  },
  {
   "cell_type": "code",
   "execution_count": 17,
   "metadata": {},
   "outputs": [
    {
     "name": "stdout",
     "output_type": "stream",
     "text": [
      "m=2.6892683506011963\n",
      "b=0.16337476670742035\n",
      "x=-1.0740976333618164\n",
      "y=-2.7251620292663574\n"
     ]
    }
   ],
   "source": [
    "class LinearModel(nn.Module):\n",
    "    \n",
    "    def __init__(self):\n",
    "        super().__init__()\n",
    "        self.m = nn.Parameter(torch.randn(1))\n",
    "        self.b = nn.Parameter(torch.randn(1))\n",
    "    \n",
    "    def forward(self, x): \n",
    "        return self.m*x + self.b\n",
    "\n",
    "f = LinearModel()\n",
    "x = torch.randn(1)\n",
    "y = f(x)\n",
    "\n",
    "print(f'm={float(f.m)}')\n",
    "print(f'b={float(f.b)}')\n",
    "print(f'x={float(x)}')\n",
    "print(f'y={float(y)}')"
   ]
  },
  {
   "cell_type": "markdown",
   "metadata": {},
   "source": [
    "Whenever you implement a `Module`, you have to implement the `forward` function as a minimum. This function defines the so-called forward propagation, i.e. the calculations necessary to generate an output for a given input. By using a `Module` as a function on a specific input `x` (i.e. `f(x)`), its `forward function` will be called with that particular input as an argument. Optionally, you can also define an initializer, which will be called whenever you instantiate the Module. Typically, this is used to initialize all necessary parameters of the module. In fact, we can explicitely tell the module that these numbers are parameters by wrapping them in an `torch.nn.Parameter` object. This enables optimization of these values later on. \n",
    "\n",
    "You might wonder why we can't simply define the linear model as a function in Python, which would require much less lines of code. The answer is in the automatic differentiation that is implemented in PyTorch. Let's explain this through an example. \n",
    "\n",
    "Consider a least squares linear regression problem, i.e. we have samples $D = \\{(x_i, y_i)\\}_{i=1, \\dots, n}$ that approximately follow a straight line. In other words: \n",
    "$$\n",
    "y_i = m x_i + b + \\varepsilon_i\n",
    "$$\n",
    "where $\\varepsilon_i$ is a small noise perturbation. The following code generates such a dataset $D$ and visualizes it. "
   ]
  },
  {
   "cell_type": "code",
   "execution_count": 18,
   "metadata": {},
   "outputs": [
    {
     "data": {
      "image/png": "[encoded data removed]",
      "text/plain": [
       "<Figure size 432x288 with 1 Axes>"
      ]
     },
     "metadata": {
      "needs_background": "light"
     },
     "output_type": "display_data"
    }
   ],
   "source": [
    "# data parameters\n",
    "n = 100\n",
    "sigma_noise = 0.5\n",
    "\n",
    "# actual line parameters (y = m*x + b)\n",
    "m_real = 3.1\n",
    "b_real = -2.2\n",
    "\n",
    "# random numbers uniformly distributed in [-1, 1]\n",
    "x = 2*torch.rand(n) - 1\n",
    "# noisy data along a straight line\n",
    "y = m_real*x + b_real + sigma_noise*torch.randn(x.shape)\n",
    "\n",
    "# show the data\n",
    "def show_data(x, y, f=None):\n",
    "    x_ = torch.tensor([-1, 1])\n",
    "    plt.scatter(x, y, c='tab:blue')\n",
    "    plt.xlabel('x')\n",
    "    plt.ylabel('y')\n",
    "    if f is not None:\n",
    "        y_ = f(x_)\n",
    "        plt.plot(x_, m_real*x_ + b_real, 'tab:red')\n",
    "        plt.plot(x_, y_.detach(), 'tab:green')\n",
    "        plt.legend(('Ground truth line', 'Estimated line', 'Samples'))\n",
    "    else:\n",
    "        plt.plot(x_, m_real*x_ + b_real, 'tab:red')\n",
    "        plt.legend(('Ground truth line', 'Samples'))\n",
    "\n",
    "fig = plt.figure()\n",
    "show_data(x, y, f=f)"
   ]
  },
  {
   "cell_type": "markdown",
   "metadata": {},
   "source": [
    "Our current linear model is definitely not a good fit for the data. A least squares estimator aims to optimize this linear model by minimizing the mean squared error (MSE) between the predictions $f(x_i)$ of our model $f$ and the actual output values $y_i$, i.e.\n",
    "$$\n",
    "\\hat{f} = \\arg\\min_f \\frac{1}{n} \\sum_i (f(x_i) - y_i)^2\n",
    "$$\n",
    "\n",
    "This is relatively straightforward to implement in PyTorch. "
   ]
  },
  {
   "cell_type": "code",
   "execution_count": 19,
   "metadata": {},
   "outputs": [
    {
     "data": {
      "image/png": "[encoded data removed]",
      "text/plain": [
       "<Figure size 576x288 with 2 Axes>"
      ]
     },
     "metadata": {},
     "output_type": "display_data"
    },
    {
     "name": "stdout",
     "output_type": "stream",
     "text": [
      "Estimated model parameters: y=3.1707050800323486*x + -2.327075481414795\n",
      "Actual linear model: y=3.1*x + -2.2\n"
     ]
    },
    {
     "data": {
      "image/png": "[encoded data removed]",
      "text/plain": [
       "<Figure size 576x288 with 2 Axes>"
      ]
     },
     "metadata": {
      "needs_background": "light"
     },
     "output_type": "display_data"
    }
   ],
   "source": [
    "# initialize a new model\n",
    "f = LinearModel()\n",
    "\n",
    "# optimization parameters\n",
    "lr = 0.1\n",
    "epochs = 75\n",
    "mse_fn = nn.MSELoss()\n",
    "optimizer = optim.Adam(f.parameters(), lr=lr)\n",
    "\n",
    "# start optimization\n",
    "epochs_rng = torch.arange(epochs)\n",
    "mses = torch.zeros(epochs)\n",
    "fig = plt.figure(figsize=(8, 4))\n",
    "for epoch in range(epochs):\n",
    "    \n",
    "    # zero out the gradients\n",
    "    optimizer.zero_grad()\n",
    "    \n",
    "    # current predictions\n",
    "    y_pred = f(x)\n",
    "    \n",
    "    # compute error\n",
    "    mse = mse_fn(y_pred, y)\n",
    "    mses[epoch] = mse\n",
    "    \n",
    "    # backward propagation\n",
    "    mse.backward()\n",
    "    \n",
    "    # adjust parameters (f.m and f.b)\n",
    "    optimizer.step()\n",
    "\n",
    "    # show error and regression throughout training\n",
    "    plt.clf()\n",
    "    display.clear_output(wait=True)\n",
    "    plt.subplot(1, 2, 1)\n",
    "    plt.plot(epochs_rng[:epoch+1], mses[:epoch+1].detach(), 'tab:blue')\n",
    "    plt.xlabel('Epoch')\n",
    "    plt.ylabel('MSE')\n",
    "    plt.subplot(1, 2, 2)\n",
    "    show_data(x, y, f=f)\n",
    "    display.display(plt.gcf())\n",
    "    time.sleep(0.001)\n",
    "\n",
    "# print out results\n",
    "print(f'Estimated model parameters: y={float(f.m)}*x + {float(f.b)}')\n",
    "print(f'Actual linear model: y={m_real}*x + {b_real}')"
   ]
  },
  {
   "cell_type": "markdown",
   "metadata": {},
   "source": [
    "That seems a reasonable regression! Now what is exactly going on here? \n",
    "\n",
    "The idea is that we try to minimize an error function (i.e. the MSE) on the data. The minimization algorithm is called gradient descent (we'll elaborate on this in the next theory session) and often used in optimization problems. \n",
    "\n",
    "The issue is that gradient descent requires computing the derivative of the loss function with respect to all parameters in the model, which can be mathematically tricky. Fortunately, PyTorch can do this automatically as long as we define the computations of our model within a `Module`. This automatic differentiation is often refered to as their [autograd](https://pytorch.org/tutorials/beginner/blitz/autograd_tutorial.html) system. \n",
    "\n",
    "**Exercise**: implement a new `Module` that takes a vector as input, applies matrix multiplication, adds a vector to the result and finally applies a sigmoid function to each element. In other words: \n",
    "$$\n",
    "f(x) = \\sigma(Ax+b)\n",
    "$$\n",
    "where $\\sigma(z) = \\frac{1}{1+e^{-z}}$. "
   ]
  },
  {
   "cell_type": "code",
   "execution_count": 20,
   "metadata": {},
   "outputs": [
    {
     "name": "stdout",
     "output_type": "stream",
     "text": [
      "x=tensor([-0.1002, -0.7446,  0.3083, -0.8653, -0.3560, -0.3951,  0.0736,  1.0756,\n",
      "         1.1748,  1.2966])\n",
      "y=tensor([0.9148, 0.9774, 0.9145, 0.5591, 0.9170], grad_fn=<SigmoidBackward>)\n"
     ]
    }
   ],
   "source": [
    "class SimpleNet(nn.Module):\n",
    "    \n",
    "    def __init__(self, n, m):\n",
    "        super().__init__()\n",
    "        self.A = nn.Parameter(torch.randn(m, n))\n",
    "        self.b = nn.Parameter(torch.randn(m))\n",
    "    \n",
    "    def forward(self, x): \n",
    "        return torch.sigmoid(torch.matmul(self.A, x) + self.b)\n",
    "\n",
    "n = 10\n",
    "m = 5\n",
    "f = SimpleNet(n, m)\n",
    "x = torch.randn(n)\n",
    "y = f(x)\n",
    "\n",
    "print(f'x={x}')\n",
    "print(f'y={y}')"
   ]
  },
  {
   "cell_type": "markdown",
   "metadata": {},
   "source": [
    "Congratulations! You have just implemented the forward propagation step of a neural network! Thanks to the autograd system in PyTorch, we don't have to worry about the backward propagation. In the next theory session, we will see what backpropagation exactly means and how we can train a neural network. "
   ]
  }
 ],
 "metadata": {
  "accelerator": "GPU",
  "colab": {
   "collapsed_sections": [],
   "name": "Exercise 0: Introduction to PyTorch",
   "provenance": [],
   "toc_visible": true
  },
  "kernelspec": {
   "display_name": "Python 3 (ipykernel)",
   "language": "python",
   "name": "python3"
  },
  "language_info": {
   "codemirror_mode": {
    "name": "ipython",
    "version": 3
   },
   "file_extension": ".py",
   "mimetype": "text/x-python",
   "name": "python",
   "nbconvert_exporter": "python",
   "pygments_lexer": "ipython3",
   "version": "3.8.8"
  }
 },
 "nbformat": 4,
 "nbformat_minor": 1
}
